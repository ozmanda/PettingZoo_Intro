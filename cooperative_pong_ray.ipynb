{
 "cells": [
  {
   "cell_type": "code",
   "execution_count": 1,
   "metadata": {},
   "outputs": [
    {
     "name": "stderr",
     "output_type": "stream",
     "text": [
      "2024-10-29 15:43:43,188\tINFO worker.py:1816 -- Started a local Ray instance.\n"
     ]
    },
    {
     "data": {
      "application/vnd.jupyter.widget-view+json": {
       "model_id": "4547cd2845e34f8a993e598be1c02d9b",
       "version_major": 2,
       "version_minor": 0
      },
      "text/html": [
       "<div class=\"lm-Widget p-Widget lm-Panel p-Panel jp-Cell-outputWrapper\">\n",
       "    <div style=\"margin-left: 50px;display: flex;flex-direction: row;align-items: center\">\n",
       "        <div class=\"jp-RenderedHTMLCommon\" style=\"display: flex; flex-direction: row;\">\n",
       "  <svg viewBox=\"0 0 567 224\" fill=\"none\" xmlns=\"http://www.w3.org/2000/svg\" style=\"height: 3em;\">\n",
       "    <g clip-path=\"url(#clip0_4338_178347)\">\n",
       "        <path d=\"M341.29 165.561H355.29L330.13 129.051C345.63 123.991 354.21 112.051 354.21 94.2307C354.21 71.3707 338.72 58.1807 311.88 58.1807H271V165.561H283.27V131.661H311.8C314.25 131.661 316.71 131.501 319.01 131.351L341.25 165.561H341.29ZM283.29 119.851V70.0007H311.82C331.3 70.0007 342.34 78.2907 342.34 94.5507C342.34 111.271 331.34 119.861 311.82 119.861L283.29 119.851ZM451.4 138.411L463.4 165.561H476.74L428.74 58.1807H416L367.83 165.561H380.83L392.83 138.411H451.4ZM446.19 126.601H398L422 72.1407L446.24 126.601H446.19ZM526.11 128.741L566.91 58.1807H554.35L519.99 114.181L485.17 58.1807H472.44L514.01 129.181V165.541H526.13V128.741H526.11Z\" fill=\"var(--jp-ui-font-color0)\"/>\n",
       "        <path d=\"M82.35 104.44C84.0187 97.8827 87.8248 92.0678 93.1671 87.9146C98.5094 83.7614 105.083 81.5067 111.85 81.5067C118.617 81.5067 125.191 83.7614 130.533 87.9146C135.875 92.0678 139.681 97.8827 141.35 104.44H163.75C164.476 101.562 165.622 98.8057 167.15 96.2605L127.45 56.5605C121.071 60.3522 113.526 61.6823 106.235 60.3005C98.9443 58.9187 92.4094 54.9203 87.8602 49.0574C83.3109 43.1946 81.0609 35.8714 81.5332 28.4656C82.0056 21.0599 85.1679 14.0819 90.4252 8.8446C95.6824 3.60726 102.672 0.471508 110.08 0.0272655C117.487 -0.416977 124.802 1.86091 130.647 6.4324C136.493 11.0039 140.467 17.5539 141.821 24.8501C143.175 32.1463 141.816 39.6859 138 46.0505L177.69 85.7505C182.31 82.9877 187.58 81.4995 192.962 81.4375C198.345 81.3755 203.648 82.742 208.33 85.3976C213.012 88.0532 216.907 91.9029 219.616 96.5544C222.326 101.206 223.753 106.492 223.753 111.875C223.753 117.258 222.326 122.545 219.616 127.197C216.907 131.848 213.012 135.698 208.33 138.353C203.648 141.009 198.345 142.375 192.962 142.313C187.58 142.251 182.31 140.763 177.69 138L138 177.7C141.808 184.071 143.155 191.614 141.79 198.91C140.424 206.205 136.44 212.75 130.585 217.313C124.731 221.875 117.412 224.141 110.004 223.683C102.596 223.226 95.6103 220.077 90.3621 214.828C85.1139 209.58 81.9647 202.595 81.5072 195.187C81.0497 187.779 83.3154 180.459 87.878 174.605C92.4405 168.751 98.9853 164.766 106.281 163.401C113.576 162.035 121.119 163.383 127.49 167.19L167.19 127.49C165.664 124.941 164.518 122.182 163.79 119.3H141.39C139.721 125.858 135.915 131.673 130.573 135.826C125.231 139.98 118.657 142.234 111.89 142.234C105.123 142.234 98.5494 139.98 93.2071 135.826C87.8648 131.673 84.0587 125.858 82.39 119.3H60C58.1878 126.495 53.8086 132.78 47.6863 136.971C41.5641 141.163 34.1211 142.972 26.7579 142.059C19.3947 141.146 12.6191 137.574 7.70605 132.014C2.79302 126.454 0.0813599 119.29 0.0813599 111.87C0.0813599 104.451 2.79302 97.2871 7.70605 91.7272C12.6191 86.1673 19.3947 82.5947 26.7579 81.6817C34.1211 80.7686 41.5641 82.5781 47.6863 86.7696C53.8086 90.9611 58.1878 97.2456 60 104.44H82.35ZM100.86 204.32C103.407 206.868 106.759 208.453 110.345 208.806C113.93 209.159 117.527 208.258 120.522 206.256C123.517 204.254 125.725 201.276 126.771 197.828C127.816 194.38 127.633 190.677 126.253 187.349C124.874 184.021 122.383 181.274 119.205 179.577C116.027 177.88 112.359 177.337 108.826 178.042C105.293 178.746 102.113 180.654 99.8291 183.44C97.5451 186.226 96.2979 189.718 96.3 193.32C96.2985 195.364 96.7006 197.388 97.4831 199.275C98.2656 201.163 99.4132 202.877 100.86 204.32ZM204.32 122.88C206.868 120.333 208.453 116.981 208.806 113.396C209.159 109.811 208.258 106.214 206.256 103.219C204.254 100.223 201.275 98.0151 197.827 96.97C194.38 95.9249 190.676 96.1077 187.348 97.4873C184.02 98.8669 181.274 101.358 179.577 104.536C177.879 107.714 177.337 111.382 178.041 114.915C178.746 118.448 180.653 121.627 183.439 123.911C186.226 126.195 189.717 127.443 193.32 127.44C195.364 127.443 197.388 127.042 199.275 126.259C201.163 125.476 202.878 124.328 204.32 122.88ZM122.88 19.4205C120.333 16.8729 116.981 15.2876 113.395 14.9347C109.81 14.5817 106.213 15.483 103.218 17.4849C100.223 19.4868 98.0146 22.4654 96.9696 25.9131C95.9245 29.3608 96.1073 33.0642 97.4869 36.3922C98.8665 39.7202 101.358 42.4668 104.535 44.1639C107.713 45.861 111.381 46.4036 114.914 45.6992C118.447 44.9949 121.627 43.0871 123.911 40.301C126.195 37.515 127.442 34.0231 127.44 30.4205C127.44 28.3772 127.038 26.3539 126.255 24.4664C125.473 22.5788 124.326 20.8642 122.88 19.4205ZM19.42 100.86C16.8725 103.408 15.2872 106.76 14.9342 110.345C14.5813 113.93 15.4826 117.527 17.4844 120.522C19.4863 123.518 22.4649 125.726 25.9127 126.771C29.3604 127.816 33.0638 127.633 36.3918 126.254C39.7198 124.874 42.4664 122.383 44.1635 119.205C45.8606 116.027 46.4032 112.359 45.6988 108.826C44.9944 105.293 43.0866 102.114 40.3006 99.8296C37.5145 97.5455 34.0227 96.2983 30.42 96.3005C26.2938 96.3018 22.337 97.9421 19.42 100.86ZM100.86 100.86C98.3125 103.408 96.7272 106.76 96.3742 110.345C96.0213 113.93 96.9226 117.527 98.9244 120.522C100.926 123.518 103.905 125.726 107.353 126.771C110.8 127.816 114.504 127.633 117.832 126.254C121.16 124.874 123.906 122.383 125.604 119.205C127.301 116.027 127.843 112.359 127.139 108.826C126.434 105.293 124.527 102.114 121.741 99.8296C118.955 97.5455 115.463 96.2983 111.86 96.3005C109.817 96.299 107.793 96.701 105.905 97.4835C104.018 98.2661 102.303 99.4136 100.86 100.86Z\" fill=\"#00AEEF\"/>\n",
       "    </g>\n",
       "    <defs>\n",
       "        <clipPath id=\"clip0_4338_178347\">\n",
       "            <rect width=\"566.93\" height=\"223.75\" fill=\"white\"/>\n",
       "        </clipPath>\n",
       "    </defs>\n",
       "  </svg>\n",
       "</div>\n",
       "\n",
       "        <table class=\"jp-RenderedHTMLCommon\" style=\"border-collapse: collapse;color: var(--jp-ui-font-color1);font-size: var(--jp-ui-font-size1);\">\n",
       "    <tr>\n",
       "        <td style=\"text-align: left\"><b>Python version:</b></td>\n",
       "        <td style=\"text-align: left\"><b>3.11.6</b></td>\n",
       "    </tr>\n",
       "    <tr>\n",
       "        <td style=\"text-align: left\"><b>Ray version:</b></td>\n",
       "        <td style=\"text-align: left\"><b>2.38.0</b></td>\n",
       "    </tr>\n",
       "    \n",
       "</table>\n",
       "\n",
       "    </div>\n",
       "</div>\n"
      ],
      "text/plain": [
       "RayContext(dashboard_url='', python_version='3.11.6', ray_version='2.38.0', ray_commit='385ee466260ef3cd218d5e372aef5d39338b7b94')"
      ]
     },
     "execution_count": 1,
     "metadata": {},
     "output_type": "execute_result"
    }
   ],
   "source": [
    "import os\n",
    "import ray\n",
    "import supersuit as ss \n",
    "from ray import tune    # experiment runner\n",
    "from pettingzoo.butterfly import cooperative_pong_v5\n",
    "from ray.tune.registry import register_env\n",
    "from ray.rllib.env import ParallelPettingZooEnv\n",
    "from ray.rllib.algorithms.ppo import PPOConfig\n",
    "\n",
    "ray.init(num_cpus=6)"
   ]
  },
  {
   "cell_type": "markdown",
   "metadata": {},
   "source": [
    "# Ray, RLLib and Pettingzoo\n",
    "To perform RL experiments with Ray, four things are needed: \n",
    "1. RL Environment \n",
    "2. RL Algorithm\n",
    "3. Configuration of the environment, algorithm and the experiment\n",
    "4. Experiment Runner\n",
    "\n",
    "\n",
    "The multi-agent environments from PettingZoo are not directly compatible with Ray, and need to be wrapped with either the ```PettingZooEnv``` or the ```PettingZooParallelEnv``` wrappers, depending on whether an ```AEC``` or a ```ParallelEnv``` environment is being used. In the following the ```ParallelEnv``` option will be shown using the ```cooperative_pong_v5```."
   ]
  },
  {
   "cell_type": "code",
   "execution_count": 2,
   "metadata": {},
   "outputs": [],
   "source": [
    "env_name = 'cooperative_pong'\n",
    "\n",
    "def env_creator(env_config):\n",
    "    env = cooperative_pong_v5.parallel_env(render_mode=env_config.get(\"render_mode\", \"human\"))\n",
    "    env = ss.color_reduction_v0(env, mode='B')\n",
    "    env = ss.resize_v1(env, x_size=84, y_size=84)\n",
    "    env = ss.frame_stack_v1(env, 4)\n",
    "    env = ss.dtype_v0(env, 'float32')\n",
    "    return env\n",
    "\n",
    "register_env(env_name, lambda config: ParallelPettingZooEnv(env_creator(config)))"
   ]
  },
  {
   "cell_type": "markdown",
   "metadata": {},
   "source": [
    "In the ```env_creator``` function we initialise the environment and using ```Supersuit``` we wrap the environment to be compatible with the ```rllib``` algorithms. The single functions are described [here](https://pypi.org/project/SuperSuit/3.3.1/). \n",
    "\n",
    "By registering the environment under the ```env_name``` we can access it from the ```rllib``` API. When the env is called, it invokes the ```env_creator``` function defined above and passes the arguments in ```config```. The ```.get()``` function retrieves the values for the key, allowing the specification of a default value if that key doesn't exist in the dictionary."
   ]
  },
  {
   "cell_type": "markdown",
   "metadata": {},
   "source": [
    "There are multiple ways of writing an algorithm configuration and running the experiment, with multiple [configuration options](https://docs.ray.io/en/latest/rllib/rllib-training.html?_gl=1*wviehk*_up*MQ..*_ga*MTA1MDM5NzY0Ny4xNzMwMTEwMTE0*_ga_0LCWHW1N3S*MTczMDExMDExMy4xLjEuMTczMDExMDE5MC4wLjAuMA..#configuring-rllib-algorithms). In the following two variants are shown using the ```PPOConfig``` model / class . One method is to set all configuration settings in the ```config``` object directly when accessing ```PPOConfig``` and run the configuration using ```tune.run()```."
   ]
  },
  {
   "cell_type": "code",
   "execution_count": null,
   "metadata": {},
   "outputs": [],
   "source": [
    "config = (\n",
    "    PPOConfig()\n",
    "    .environment(env=env_name)\n",
    "    .framework(\"torch\")\n",
    "    .training(\n",
    "            train_batch_size=512,\n",
    "            lr=2e-5,\n",
    "            gamma=0.99,\n",
    "            lambda_=0.9,\n",
    "            use_gae=True,\n",
    "            clip_param=0.4,\n",
    "            grad_clip=None,\n",
    "            entropy_coeff=0.1,\n",
    "            vf_loss_coeff=0.25,\n",
    "            num_sgd_iter=10,\n",
    "    )\n",
    ")\n",
    "\n",
    "tune.run(\n",
    "    'PPO',\n",
    "    config=config.to_dict(),\n",
    "    name='ppo_cooperative_pong',\n",
    ")"
   ]
  },
  {
   "cell_type": "markdown",
   "metadata": {},
   "source": [
    "An alternative is to initialise a ```PPOConfig``` object and then apply all configuration settings individually. In the following code the [new API stack](https://docs.ray.io/en/latest/rllib/rllib-new-api-stack.html) is activated by setting the two parameters of [```AlgorithmConcfig.api_stack```](https://docs.ray.io/en/latest/rllib/package_ref/doc/ray.rllib.algorithms.algorithm_config.AlgorithmConfig.api_stack.html) to ```True```. \n",
    "\n",
    "This configuration can then be built into an ```Algorithm``` object and the ```.train()``` method used to run a single training iteration. "
   ]
  },
  {
   "cell_type": "code",
   "execution_count": 3,
   "metadata": {},
   "outputs": [
    {
     "name": "stderr",
     "output_type": "stream",
     "text": [
      "c:\\Users\\ushe\\VSCode\\PettingZoo_Intro\\.venv\\Lib\\site-packages\\ray\\rllib\\algorithms\\algorithm.py:568: RayDeprecationWarning: This API is deprecated and may be removed in future Ray releases. You could suppress this warning by setting env variable PYTHONWARNINGS=\"ignore::DeprecationWarning\"\n",
      "`UnifiedLogger` will be removed in Ray 2.7.\n",
      "  return UnifiedLogger(config, logdir, loggers=None)\n",
      "c:\\Users\\ushe\\VSCode\\PettingZoo_Intro\\.venv\\Lib\\site-packages\\ray\\tune\\logger\\unified.py:53: RayDeprecationWarning: This API is deprecated and may be removed in future Ray releases. You could suppress this warning by setting env variable PYTHONWARNINGS=\"ignore::DeprecationWarning\"\n",
      "The `JsonLogger interface is deprecated in favor of the `ray.tune.json.JsonLoggerCallback` interface and will be removed in Ray 2.7.\n",
      "  self._loggers.append(cls(self.config, self.logdir, self.trial))\n",
      "c:\\Users\\ushe\\VSCode\\PettingZoo_Intro\\.venv\\Lib\\site-packages\\ray\\tune\\logger\\unified.py:53: RayDeprecationWarning: This API is deprecated and may be removed in future Ray releases. You could suppress this warning by setting env variable PYTHONWARNINGS=\"ignore::DeprecationWarning\"\n",
      "The `CSVLogger interface is deprecated in favor of the `ray.tune.csv.CSVLoggerCallback` interface and will be removed in Ray 2.7.\n",
      "  self._loggers.append(cls(self.config, self.logdir, self.trial))\n",
      "c:\\Users\\ushe\\VSCode\\PettingZoo_Intro\\.venv\\Lib\\site-packages\\ray\\tune\\logger\\unified.py:53: RayDeprecationWarning: This API is deprecated and may be removed in future Ray releases. You could suppress this warning by setting env variable PYTHONWARNINGS=\"ignore::DeprecationWarning\"\n",
      "The `TBXLogger interface is deprecated in favor of the `ray.tune.tensorboardx.TBXLoggerCallback` interface and will be removed in Ray 2.7.\n",
      "  self._loggers.append(cls(self.config, self.logdir, self.trial))\n",
      "2024-10-29 15:44:18,197\tERROR actor_manager.py:804 -- Ray error (The actor died because of an error raised in its creation task, \u001b[36mray::SingleAgentEnvRunner.__init__()\u001b[39m (pid=39484, ip=127.0.0.1, actor_id=415991677ba2e10a3782f9d401000000, repr=<ray.rllib.env.single_agent_env_runner.SingleAgentEnvRunner object at 0x0000027190B40A10>)\n",
      "             ^^^^^^^^^^^^^^^^^^\n",
      "  File \"c:\\Users\\ushe\\VSCode\\PettingZoo_Intro\\.venv\\Lib\\site-packages\\ray\\rllib\\core\\rl_module\\torch\\torch_rl_module.py\", line 50, in __init__\n",
      "    RLModule.__init__(self, *args, **kwargs)\n",
      "  File \"c:\\Users\\ushe\\VSCode\\PettingZoo_Intro\\.venv\\Lib\\site-packages\\ray\\rllib\\core\\rl_module\\rl_module.py\", line 459, in __init__\n",
      "    self.setup()\n",
      "  File \"c:\\Users\\ushe\\VSCode\\PettingZoo_Intro\\.venv\\Lib\\site-packages\\ray\\rllib\\algorithms\\ppo\\ppo_rl_module.py\", line 28, in setup\n",
      "    self.catalog.actor_critic_encoder_config.base_encoder_config,\n",
      "    ^^^^^^^^^^^^^^^^^^^^^^^^^^^^^^^^^^^^^^^^\n",
      "AttributeError: 'NoneType' object has no attribute 'actor_critic_encoder_config'\n",
      "\n",
      "During handling of the above exception, another exception occurred:\n",
      "\n",
      "\u001b[36mray::SingleAgentEnvRunner.__init__()\u001b[39m (pid=39484, ip=127.0.0.1, actor_id=415991677ba2e10a3782f9d401000000, repr=<ray.rllib.env.single_agent_env_runner.SingleAgentEnvRunner object at 0x0000027190B40A10>)\n",
      "  File \"python\\ray\\_raylet.pyx\", line 1856, in ray._raylet.execute_task\n",
      "  File \"python\\ray\\_raylet.pyx\", line 1957, in ray._raylet.execute_task\n",
      "  File \"python\\ray\\_raylet.pyx\", line 1862, in ray._raylet.execute_task\n",
      "  File \"python\\ray\\_raylet.pyx\", line 1803, in ray._raylet.execute_task.function_executor\n",
      "  File \"c:\\Users\\ushe\\VSCode\\PettingZoo_Intro\\.venv\\Lib\\site-packages\\ray\\_private\\function_manager.py\", line 696, in actor_method_executor\n",
      "    return method(__ray_actor, *args, **kwargs)\n",
      "           ^^^^^^^^^^^^^^^^^^^^^^^^^^^^^^^^^^^^\n",
      "  File \"c:\\Users\\ushe\\VSCode\\PettingZoo_Intro\\.venv\\Lib\\site-packages\\ray\\util\\tracing\\tracing_helper.py\", line 467, in _resume_span\n",
      "    return method(self, *_args, **_kwargs)\n",
      "           ^^^^^^^^^^^^^^^^^^^^^^^^^^^^^^^\n",
      "  File \"c:\\Users\\ushe\\VSCode\\PettingZoo_Intro\\.venv\\Lib\\site-packages\\ray\\rllib\\env\\single_agent_env_runner.py\", line 106, in __init__\n",
      "    self.module = module_spec.build()\n",
      "                  ^^^^^^^^^^^^^^^^^^^\n",
      "  File \"c:\\Users\\ushe\\VSCode\\PettingZoo_Intro\\.venv\\Lib\\site-packages\\ray\\rllib\\core\\rl_module\\rl_module.py\", line 108, in build\n",
      "    module = self.module_class(module_config)\n",
      "             ^^^^^^^^^^^^^^^^^^^^^^^^^^^^^^^^\n",
      "  File \"c:\\Users\\ushe\\VSCode\\PettingZoo_Intro\\.venv\\Lib\\site-packages\\ray\\rllib\\core\\rl_module\\torch\\torch_rl_module.py\", line 50, in __init__\n",
      "    RLModule.__init__(self, *args, **kwargs)\n",
      "  File \"c:\\Users\\ushe\\VSCode\\PettingZoo_Intro\\.venv\\Lib\\site-packages\\ray\\rllib\\core\\rl_module\\rl_module.py\", line 459, in __init__\n",
      "    self.setup()\n",
      "  File \"c:\\Users\\ushe\\VSCode\\PettingZoo_Intro\\.venv\\Lib\\site-packages\\ray\\rllib\\algorithms\\ppo\\ppo_rl_module.py\", line 28, in setup\n",
      "    self.catalog.actor_critic_encoder_config.base_encoder_config,\n",
      "    ^^^^^^^^^^^^^^^^^^^^^^^^^^^^^^^^^^^^^^^^\n",
      "AttributeError: 'NoneType' object has no attribute 'actor_critic_encoder_config'), taking actor 1 out of service.\n",
      "2024-10-29 15:44:18,199\tERROR actor_manager.py:804 -- Ray error (The actor died because of an error raised in its creation task, \u001b[36mray::SingleAgentEnvRunner.__init__()\u001b[39m (pid=44664, ip=127.0.0.1, actor_id=24535fed2c2dd5a43590f13601000000, repr=<ray.rllib.env.single_agent_env_runner.SingleAgentEnvRunner object at 0x0000014490B20A10>)\n",
      "             ^^^^^^^^^^^^^^^^^^\n",
      "  File \"c:\\Users\\ushe\\VSCode\\PettingZoo_Intro\\.venv\\Lib\\site-packages\\ray\\rllib\\core\\rl_module\\torch\\torch_rl_module.py\", line 50, in __init__\n",
      "    RLModule.__init__(self, *args, **kwargs)\n",
      "  File \"c:\\Users\\ushe\\VSCode\\PettingZoo_Intro\\.venv\\Lib\\site-packages\\ray\\rllib\\core\\rl_module\\rl_module.py\", line 459, in __init__\n",
      "    self.setup()\n",
      "  File \"c:\\Users\\ushe\\VSCode\\PettingZoo_Intro\\.venv\\Lib\\site-packages\\ray\\rllib\\algorithms\\ppo\\ppo_rl_module.py\", line 28, in setup\n",
      "    self.catalog.actor_critic_encoder_config.base_encoder_config,\n",
      "    ^^^^^^^^^^^^^^^^^^^^^^^^^^^^^^^^^^^^^^^^\n",
      "AttributeError: 'NoneType' object has no attribute 'actor_critic_encoder_config'\n",
      "\n",
      "During handling of the above exception, another exception occurred:\n",
      "\n",
      "\u001b[36mray::SingleAgentEnvRunner.__init__()\u001b[39m (pid=44664, ip=127.0.0.1, actor_id=24535fed2c2dd5a43590f13601000000, repr=<ray.rllib.env.single_agent_env_runner.SingleAgentEnvRunner object at 0x0000014490B20A10>)\n",
      "  File \"python\\ray\\_raylet.pyx\", line 1856, in ray._raylet.execute_task\n",
      "  File \"python\\ray\\_raylet.pyx\", line 1957, in ray._raylet.execute_task\n",
      "  File \"python\\ray\\_raylet.pyx\", line 1862, in ray._raylet.execute_task\n",
      "  File \"python\\ray\\_raylet.pyx\", line 1803, in ray._raylet.execute_task.function_executor\n",
      "  File \"c:\\Users\\ushe\\VSCode\\PettingZoo_Intro\\.venv\\Lib\\site-packages\\ray\\_private\\function_manager.py\", line 696, in actor_method_executor\n",
      "    return method(__ray_actor, *args, **kwargs)\n",
      "           ^^^^^^^^^^^^^^^^^^^^^^^^^^^^^^^^^^^^\n",
      "  File \"c:\\Users\\ushe\\VSCode\\PettingZoo_Intro\\.venv\\Lib\\site-packages\\ray\\util\\tracing\\tracing_helper.py\", line 467, in _resume_span\n",
      "    return method(self, *_args, **_kwargs)\n",
      "           ^^^^^^^^^^^^^^^^^^^^^^^^^^^^^^^\n",
      "  File \"c:\\Users\\ushe\\VSCode\\PettingZoo_Intro\\.venv\\Lib\\site-packages\\ray\\rllib\\env\\single_agent_env_runner.py\", line 106, in __init__\n",
      "    self.module = module_spec.build()\n",
      "                  ^^^^^^^^^^^^^^^^^^^\n",
      "  File \"c:\\Users\\ushe\\VSCode\\PettingZoo_Intro\\.venv\\Lib\\site-packages\\ray\\rllib\\core\\rl_module\\rl_module.py\", line 108, in build\n",
      "    module = self.module_class(module_config)\n",
      "             ^^^^^^^^^^^^^^^^^^^^^^^^^^^^^^^^\n",
      "  File \"c:\\Users\\ushe\\VSCode\\PettingZoo_Intro\\.venv\\Lib\\site-packages\\ray\\rllib\\core\\rl_module\\torch\\torch_rl_module.py\", line 50, in __init__\n",
      "    RLModule.__init__(self, *args, **kwargs)\n",
      "  File \"c:\\Users\\ushe\\VSCode\\PettingZoo_Intro\\.venv\\Lib\\site-packages\\ray\\rllib\\core\\rl_module\\rl_module.py\", line 459, in __init__\n",
      "    self.setup()\n",
      "  File \"c:\\Users\\ushe\\VSCode\\PettingZoo_Intro\\.venv\\Lib\\site-packages\\ray\\rllib\\algorithms\\ppo\\ppo_rl_module.py\", line 28, in setup\n",
      "    self.catalog.actor_critic_encoder_config.base_encoder_config,\n",
      "    ^^^^^^^^^^^^^^^^^^^^^^^^^^^^^^^^^^^^^^^^\n",
      "AttributeError: 'NoneType' object has no attribute 'actor_critic_encoder_config'), taking actor 2 out of service.\n"
     ]
    },
    {
     "name": "stderr",
     "output_type": "stream",
     "text": [
      "\u001b[36m(SingleAgentEnvRunner pid=39484)\u001b[0m c:\\Users\\ushe\\VSCode\\PettingZoo_Intro\\.venv\\Lib\\site-packages\\gymnasium\\vector\\__init__.py:53: UserWarning: \u001b[33mWARN: `gymnasium.vector.make(...)` is deprecated and will be replaced by `gymnasium.make_vec(...)` in v1.0\u001b[0m\n",
      "\u001b[36m(SingleAgentEnvRunner pid=39484)\u001b[0m   gym.logger.warn(\n",
      "\u001b[36m(SingleAgentEnvRunner pid=39484)\u001b[0m c:\\Users\\ushe\\VSCode\\PettingZoo_Intro\\.venv\\Lib\\site-packages\\gymnasium\\core.py:311: UserWarning: \u001b[33mWARN: env.num_envs to get variables from other wrappers is deprecated and will be removed in v1.0, to get this variable you can do `env.unwrapped.num_envs` for environment variables or `env.get_wrapper_attr('num_envs')` that will search the reminding wrappers.\u001b[0m\n",
      "\u001b[36m(SingleAgentEnvRunner pid=39484)\u001b[0m   logger.warn(\n",
      "\u001b[36m(SingleAgentEnvRunner pid=39484)\u001b[0m c:\\Users\\ushe\\VSCode\\PettingZoo_Intro\\.venv\\Lib\\site-packages\\gymnasium\\core.py:311: UserWarning: \u001b[33mWARN: env.single_observation_space to get variables from other wrappers is deprecated and will be removed in v1.0, to get this variable you can do `env.unwrapped.single_observation_space` for environment variables or `env.get_wrapper_attr('single_observation_space')` that will search the reminding wrappers.\u001b[0m\n",
      "\u001b[36m(SingleAgentEnvRunner pid=39484)\u001b[0m   logger.warn(\n",
      "\u001b[36m(SingleAgentEnvRunner pid=39484)\u001b[0m c:\\Users\\ushe\\VSCode\\PettingZoo_Intro\\.venv\\Lib\\site-packages\\gymnasium\\core.py:311: UserWarning: \u001b[33mWARN: env.single_action_space to get variables from other wrappers is deprecated and will be removed in v1.0, to get this variable you can do `env.unwrapped.single_action_space` for environment variables or `env.get_wrapper_attr('single_action_space')` that will search the reminding wrappers.\u001b[0m\n",
      "\u001b[36m(SingleAgentEnvRunner pid=39484)\u001b[0m   logger.warn(\n",
      "\u001b[36m(SingleAgentEnvRunner pid=39484)\u001b[0m 2024-10-29 15:44:18,113\tWARNING deprecation.py:50 -- DeprecationWarning: `RLModule(config=[RLModuleConfig object])` has been deprecated. Use `RLModule(observation_space=.., action_space=.., inference_only=.., model_config=.., catalog_class=..)` instead. This will raise an error in the future!\n",
      "\u001b[36m(SingleAgentEnvRunner pid=39484)\u001b[0m 2024-10-29 15:44:18,113\tWARNING deprecation.py:50 -- DeprecationWarning: `get_rl_module_config` has been deprecated. Use `RLModule(*, observation_space=.., action_space=.., ....)` instead. This will raise an error in the future!\n",
      "\u001b[36m(SingleAgentEnvRunner pid=39484)\u001b[0m 2024-10-29 15:44:18,113\tWARNING deprecation.py:50 -- DeprecationWarning: `RLModule(config=[RLModuleConfig])` has been deprecated. Use `RLModule(observation_space=.., action_space=.., inference_only=.., learner_only=.., model_config=..)` instead. This will raise an error in the future!\n",
      "\u001b[36m(SingleAgentEnvRunner pid=39484)\u001b[0m Exception raised in creation task: The actor died because of an error raised in its creation task, \u001b[36mray::SingleAgentEnvRunner.__init__()\u001b[39m (pid=39484, ip=127.0.0.1, actor_id=415991677ba2e10a3782f9d401000000, repr=<ray.rllib.env.single_agent_env_runner.SingleAgentEnvRunner object at 0x0000027190B40A10>)\n",
      "\u001b[36m(SingleAgentEnvRunner pid=39484)\u001b[0m              ^^^^^^^^^^^^^^^^^^\n",
      "\u001b[36m(SingleAgentEnvRunner pid=39484)\u001b[0m   File \"c:\\Users\\ushe\\VSCode\\PettingZoo_Intro\\.venv\\Lib\\site-packages\\ray\\rllib\\core\\rl_module\\torch\\torch_rl_module.py\", line 50, in __init__\n",
      "\u001b[36m(SingleAgentEnvRunner pid=39484)\u001b[0m     RLModule.__init__(self, *args, **kwargs)\n",
      "\u001b[36m(SingleAgentEnvRunner pid=39484)\u001b[0m   File \"c:\\Users\\ushe\\VSCode\\PettingZoo_Intro\\.venv\\Lib\\site-packages\\ray\\rllib\\core\\rl_module\\rl_module.py\", line 459, in __init__\n",
      "\u001b[36m(SingleAgentEnvRunner pid=39484)\u001b[0m     self.setup()\n",
      "\u001b[36m(SingleAgentEnvRunner pid=39484)\u001b[0m   File \"c:\\Users\\ushe\\VSCode\\PettingZoo_Intro\\.venv\\Lib\\site-packages\\ray\\rllib\\algorithms\\ppo\\ppo_rl_module.py\", line 28, in setup\n",
      "\u001b[36m(SingleAgentEnvRunner pid=39484)\u001b[0m     self.catalog.actor_critic_encoder_config.base_encoder_config,\n",
      "\u001b[36m(SingleAgentEnvRunner pid=39484)\u001b[0m     ^^^^^^^^^^^^^^^^^^^^^^^^^^^^^^^^^^^^^^^^\n",
      "\u001b[36m(SingleAgentEnvRunner pid=39484)\u001b[0m AttributeError: 'NoneType' object has no attribute 'actor_critic_encoder_config'\n",
      "\u001b[36m(SingleAgentEnvRunner pid=39484)\u001b[0m \n",
      "\u001b[36m(SingleAgentEnvRunner pid=39484)\u001b[0m During handling of the above exception, another exception occurred:\n",
      "\u001b[36m(SingleAgentEnvRunner pid=39484)\u001b[0m \n",
      "\u001b[36m(SingleAgentEnvRunner pid=39484)\u001b[0m \u001b[36mray::SingleAgentEnvRunner.__init__()\u001b[39m (pid=39484, ip=127.0.0.1, actor_id=415991677ba2e10a3782f9d401000000, repr=<ray.rllib.env.single_agent_env_runner.SingleAgentEnvRunner object at 0x0000027190B40A10>)\n",
      "\u001b[36m(SingleAgentEnvRunner pid=39484)\u001b[0m   File \"python\\ray\\_raylet.pyx\", line 1856, in ray._raylet.execute_task\n",
      "\u001b[36m(SingleAgentEnvRunner pid=39484)\u001b[0m   File \"python\\ray\\_raylet.pyx\", line 1957, in ray._raylet.execute_task\n",
      "\u001b[36m(SingleAgentEnvRunner pid=39484)\u001b[0m   File \"python\\ray\\_raylet.pyx\", line 1862, in ray._raylet.execute_task\n",
      "\u001b[36m(SingleAgentEnvRunner pid=39484)\u001b[0m   File \"python\\ray\\_raylet.pyx\", line 1803, in ray._raylet.execute_task.function_executor\n",
      "\u001b[36m(SingleAgentEnvRunner pid=39484)\u001b[0m   File \"c:\\Users\\ushe\\VSCode\\PettingZoo_Intro\\.venv\\Lib\\site-packages\\ray\\_private\\function_manager.py\", line 696, in actor_method_executor\n",
      "\u001b[36m(SingleAgentEnvRunner pid=39484)\u001b[0m     return method(__ray_actor, *args, **kwargs)\n",
      "\u001b[36m(SingleAgentEnvRunner pid=39484)\u001b[0m            ^^^^^^^^^^^^^^^^^^^^^^^^^^^^^^^^^^^^\n",
      "\u001b[36m(SingleAgentEnvRunner pid=39484)\u001b[0m   File \"c:\\Users\\ushe\\VSCode\\PettingZoo_Intro\\.venv\\Lib\\site-packages\\ray\\util\\tracing\\tracing_helper.py\", line 467, in _resume_span\n",
      "\u001b[36m(SingleAgentEnvRunner pid=39484)\u001b[0m     return method(self, *_args, **_kwargs)\n",
      "\u001b[36m(SingleAgentEnvRunner pid=39484)\u001b[0m            ^^^^^^^^^^^^^^^^^^^^^^^^^^^^^^^\n",
      "\u001b[36m(SingleAgentEnvRunner pid=39484)\u001b[0m   File \"c:\\Users\\ushe\\VSCode\\PettingZoo_Intro\\.venv\\Lib\\site-packages\\ray\\rllib\\env\\single_agent_env_runner.py\", line 106, in __init__\n",
      "\u001b[36m(SingleAgentEnvRunner pid=39484)\u001b[0m     self.module = module_spec.build()\n",
      "\u001b[36m(SingleAgentEnvRunner pid=39484)\u001b[0m                   ^^^^^^^^^^^^^^^^^^^\n",
      "\u001b[36m(SingleAgentEnvRunner pid=39484)\u001b[0m   File \"c:\\Users\\ushe\\VSCode\\PettingZoo_Intro\\.venv\\Lib\\site-packages\\ray\\rllib\\core\\rl_module\\rl_module.py\", line 108, in build\n",
      "\u001b[36m(SingleAgentEnvRunner pid=39484)\u001b[0m     module = self.module_class(module_config)\n",
      "\u001b[36m(SingleAgentEnvRunner pid=39484)\u001b[0m              ^^^^^^^^^^^^^^^^^^^^^^^^^^^^^^^^\n",
      "\u001b[36m(SingleAgentEnvRunner pid=39484)\u001b[0m   File \"c:\\Users\\ushe\\VSCode\\PettingZoo_Intro\\.venv\\Lib\\site-packages\\ray\\rllib\\core\\rl_module\\torch\\torch_rl_module.py\", line 50, in __init__\n",
      "\u001b[36m(SingleAgentEnvRunner pid=39484)\u001b[0m     RLModule.__init__(self, *args, **kwargs)\n",
      "\u001b[36m(SingleAgentEnvRunner pid=39484)\u001b[0m   File \"c:\\Users\\ushe\\VSCode\\PettingZoo_Intro\\.venv\\Lib\\site-packages\\ray\\rllib\\core\\rl_module\\rl_module.py\", line 459, in __init__\n",
      "\u001b[36m(SingleAgentEnvRunner pid=39484)\u001b[0m     self.setup()\n",
      "\u001b[36m(SingleAgentEnvRunner pid=39484)\u001b[0m   File \"c:\\Users\\ushe\\VSCode\\PettingZoo_Intro\\.venv\\Lib\\site-packages\\ray\\rllib\\algorithms\\ppo\\ppo_rl_module.py\", line 28, in setup\n",
      "\u001b[36m(SingleAgentEnvRunner pid=39484)\u001b[0m     self.catalog.actor_critic_encoder_config.base_encoder_config,\n",
      "\u001b[36m(SingleAgentEnvRunner pid=39484)\u001b[0m     ^^^^^^^^^^^^^^^^^^^^^^^^^^^^^^^^^^^^^^^^\n",
      "\u001b[36m(SingleAgentEnvRunner pid=39484)\u001b[0m AttributeError: 'NoneType' object has no attribute 'actor_critic_encoder_config'\n",
      "\u001b[36m(SingleAgentEnvRunner pid=44664)\u001b[0m \n",
      "\u001b[36m(SingleAgentEnvRunner pid=44664)\u001b[0m \n"
     ]
    },
    {
     "ename": "AttributeError",
     "evalue": "'NoneType' object has no attribute 'actor_critic_encoder_config'",
     "output_type": "error",
     "traceback": [
      "\u001b[1;31m---------------------------------------------------------------------------\u001b[0m",
      "\u001b[1;31mActorDiedError\u001b[0m                            Traceback (most recent call last)",
      "File \u001b[1;32mc:\\Users\\ushe\\VSCode\\PettingZoo_Intro\\.venv\\Lib\\site-packages\\ray\\rllib\\env\\env_runner_group.py:194\u001b[0m, in \u001b[0;36mEnvRunnerGroup.__init__\u001b[1;34m(self, env_creator, validate_env, default_policy_class, config, num_env_runners, local_env_runner, logdir, _setup, tune_trial_id, num_workers, local_worker)\u001b[0m\n\u001b[0;32m    193\u001b[0m \u001b[38;5;28;01mtry\u001b[39;00m:\n\u001b[1;32m--> 194\u001b[0m     \u001b[38;5;28;43mself\u001b[39;49m\u001b[38;5;241;43m.\u001b[39;49m\u001b[43m_setup\u001b[49m\u001b[43m(\u001b[49m\n\u001b[0;32m    195\u001b[0m \u001b[43m        \u001b[49m\u001b[43mvalidate_env\u001b[49m\u001b[38;5;241;43m=\u001b[39;49m\u001b[43mvalidate_env\u001b[49m\u001b[43m,\u001b[49m\n\u001b[0;32m    196\u001b[0m \u001b[43m        \u001b[49m\u001b[43mconfig\u001b[49m\u001b[38;5;241;43m=\u001b[39;49m\u001b[43mconfig\u001b[49m\u001b[43m,\u001b[49m\n\u001b[0;32m    197\u001b[0m \u001b[43m        \u001b[49m\u001b[43mnum_env_runners\u001b[49m\u001b[38;5;241;43m=\u001b[39;49m\u001b[43mnum_env_runners\u001b[49m\u001b[43m,\u001b[49m\n\u001b[0;32m    198\u001b[0m \u001b[43m        \u001b[49m\u001b[43mlocal_env_runner\u001b[49m\u001b[38;5;241;43m=\u001b[39;49m\u001b[43mlocal_env_runner\u001b[49m\u001b[43m,\u001b[49m\n\u001b[0;32m    199\u001b[0m \u001b[43m    \u001b[49m\u001b[43m)\u001b[49m\n\u001b[0;32m    200\u001b[0m \u001b[38;5;66;03m# EnvRunnerGroup creation possibly fails, if some (remote) workers cannot\u001b[39;00m\n\u001b[0;32m    201\u001b[0m \u001b[38;5;66;03m# be initialized properly (due to some errors in the EnvRunners's\u001b[39;00m\n\u001b[0;32m    202\u001b[0m \u001b[38;5;66;03m# constructor).\u001b[39;00m\n",
      "File \u001b[1;32mc:\\Users\\ushe\\VSCode\\PettingZoo_Intro\\.venv\\Lib\\site-packages\\ray\\rllib\\env\\env_runner_group.py:264\u001b[0m, in \u001b[0;36mEnvRunnerGroup._setup\u001b[1;34m(self, validate_env, config, num_env_runners, local_env_runner)\u001b[0m\n\u001b[0;32m    263\u001b[0m \u001b[38;5;66;03m# Create a number of @ray.remote workers.\u001b[39;00m\n\u001b[1;32m--> 264\u001b[0m \u001b[38;5;28;43mself\u001b[39;49m\u001b[38;5;241;43m.\u001b[39;49m\u001b[43madd_workers\u001b[49m\u001b[43m(\u001b[49m\n\u001b[0;32m    265\u001b[0m \u001b[43m    \u001b[49m\u001b[43mnum_env_runners\u001b[49m\u001b[43m,\u001b[49m\n\u001b[0;32m    266\u001b[0m \u001b[43m    \u001b[49m\u001b[43mvalidate\u001b[49m\u001b[38;5;241;43m=\u001b[39;49m\u001b[43mconfig\u001b[49m\u001b[38;5;241;43m.\u001b[39;49m\u001b[43mvalidate_env_runners_after_construction\u001b[49m\u001b[43m,\u001b[49m\n\u001b[0;32m    267\u001b[0m \u001b[43m\u001b[49m\u001b[43m)\u001b[49m\n\u001b[0;32m    269\u001b[0m \u001b[38;5;66;03m# If num_env_runners > 0 and we don't have an env on the local worker,\u001b[39;00m\n\u001b[0;32m    270\u001b[0m \u001b[38;5;66;03m# get the observation- and action spaces for each policy from\u001b[39;00m\n\u001b[0;32m    271\u001b[0m \u001b[38;5;66;03m# the first remote worker (which does have an env).\u001b[39;00m\n",
      "File \u001b[1;32mc:\\Users\\ushe\\VSCode\\PettingZoo_Intro\\.venv\\Lib\\site-packages\\ray\\rllib\\env\\env_runner_group.py:801\u001b[0m, in \u001b[0;36mEnvRunnerGroup.add_workers\u001b[1;34m(self, num_workers, validate)\u001b[0m\n\u001b[0;32m    800\u001b[0m \u001b[38;5;28;01melse\u001b[39;00m:\n\u001b[1;32m--> 801\u001b[0m     \u001b[38;5;28;01mraise\u001b[39;00m e\n",
      "File \u001b[1;32mc:\\Users\\ushe\\VSCode\\PettingZoo_Intro\\.venv\\Lib\\site-packages\\ray\\rllib\\utils\\actor_manager.py:792\u001b[0m, in \u001b[0;36mFaultTolerantActorManager._fetch_result\u001b[1;34m(self, remote_actor_ids, remote_calls, tags, timeout_seconds, return_obj_refs, mark_healthy)\u001b[0m\n\u001b[0;32m    791\u001b[0m \u001b[38;5;28;01mtry\u001b[39;00m:\n\u001b[1;32m--> 792\u001b[0m     result \u001b[38;5;241m=\u001b[39m \u001b[43mray\u001b[49m\u001b[38;5;241;43m.\u001b[39;49m\u001b[43mget\u001b[49m\u001b[43m(\u001b[49m\u001b[43mready\u001b[49m\u001b[43m)\u001b[49m\n\u001b[0;32m    794\u001b[0m \u001b[38;5;66;03m# Any error type other than `RayError` happening during ray.get() ->\u001b[39;00m\n\u001b[0;32m    795\u001b[0m \u001b[38;5;66;03m# Throw exception right here (we don't know how to handle these non-remote\u001b[39;00m\n\u001b[0;32m    796\u001b[0m \u001b[38;5;66;03m# worker issues and should therefore crash).\u001b[39;00m\n",
      "File \u001b[1;32mc:\\Users\\ushe\\VSCode\\PettingZoo_Intro\\.venv\\Lib\\site-packages\\ray\\_private\\auto_init_hook.py:21\u001b[0m, in \u001b[0;36mwrap_auto_init.<locals>.auto_init_wrapper\u001b[1;34m(*args, **kwargs)\u001b[0m\n\u001b[0;32m     20\u001b[0m auto_init_ray()\n\u001b[1;32m---> 21\u001b[0m \u001b[38;5;28;01mreturn\u001b[39;00m \u001b[43mfn\u001b[49m\u001b[43m(\u001b[49m\u001b[38;5;241;43m*\u001b[39;49m\u001b[43margs\u001b[49m\u001b[43m,\u001b[49m\u001b[43m \u001b[49m\u001b[38;5;241;43m*\u001b[39;49m\u001b[38;5;241;43m*\u001b[39;49m\u001b[43mkwargs\u001b[49m\u001b[43m)\u001b[49m\n",
      "File \u001b[1;32mc:\\Users\\ushe\\VSCode\\PettingZoo_Intro\\.venv\\Lib\\site-packages\\ray\\_private\\client_mode_hook.py:103\u001b[0m, in \u001b[0;36mclient_mode_hook.<locals>.wrapper\u001b[1;34m(*args, **kwargs)\u001b[0m\n\u001b[0;32m    102\u001b[0m         \u001b[38;5;28;01mreturn\u001b[39;00m \u001b[38;5;28mgetattr\u001b[39m(ray, func\u001b[38;5;241m.\u001b[39m\u001b[38;5;18m__name__\u001b[39m)(\u001b[38;5;241m*\u001b[39margs, \u001b[38;5;241m*\u001b[39m\u001b[38;5;241m*\u001b[39mkwargs)\n\u001b[1;32m--> 103\u001b[0m \u001b[38;5;28;01mreturn\u001b[39;00m \u001b[43mfunc\u001b[49m\u001b[43m(\u001b[49m\u001b[38;5;241;43m*\u001b[39;49m\u001b[43margs\u001b[49m\u001b[43m,\u001b[49m\u001b[43m \u001b[49m\u001b[38;5;241;43m*\u001b[39;49m\u001b[38;5;241;43m*\u001b[39;49m\u001b[43mkwargs\u001b[49m\u001b[43m)\u001b[49m\n",
      "File \u001b[1;32mc:\\Users\\ushe\\VSCode\\PettingZoo_Intro\\.venv\\Lib\\site-packages\\ray\\_private\\worker.py:2745\u001b[0m, in \u001b[0;36mget\u001b[1;34m(object_refs, timeout)\u001b[0m\n\u001b[0;32m   2744\u001b[0m \u001b[38;5;66;03m# TODO(ujvl): Consider how to allow user to retrieve the ready objects.\u001b[39;00m\n\u001b[1;32m-> 2745\u001b[0m values, debugger_breakpoint \u001b[38;5;241m=\u001b[39m \u001b[43mworker\u001b[49m\u001b[38;5;241;43m.\u001b[39;49m\u001b[43mget_objects\u001b[49m\u001b[43m(\u001b[49m\u001b[43mobject_refs\u001b[49m\u001b[43m,\u001b[49m\u001b[43m \u001b[49m\u001b[43mtimeout\u001b[49m\u001b[38;5;241;43m=\u001b[39;49m\u001b[43mtimeout\u001b[49m\u001b[43m)\u001b[49m\n\u001b[0;32m   2746\u001b[0m \u001b[38;5;28;01mfor\u001b[39;00m i, value \u001b[38;5;129;01min\u001b[39;00m \u001b[38;5;28menumerate\u001b[39m(values):\n",
      "File \u001b[1;32mc:\\Users\\ushe\\VSCode\\PettingZoo_Intro\\.venv\\Lib\\site-packages\\ray\\_private\\worker.py:903\u001b[0m, in \u001b[0;36mWorker.get_objects\u001b[1;34m(self, object_refs, timeout, return_exceptions)\u001b[0m\n\u001b[0;32m    902\u001b[0m             \u001b[38;5;28;01melse\u001b[39;00m:\n\u001b[1;32m--> 903\u001b[0m                 \u001b[38;5;28;01mraise\u001b[39;00m value\n\u001b[0;32m    905\u001b[0m \u001b[38;5;28;01mreturn\u001b[39;00m values, debugger_breakpoint\n",
      "\u001b[1;31mActorDiedError\u001b[0m: The actor died because of an error raised in its creation task, \u001b[36mray::SingleAgentEnvRunner.__init__()\u001b[39m (pid=39484, ip=127.0.0.1, actor_id=415991677ba2e10a3782f9d401000000, repr=<ray.rllib.env.single_agent_env_runner.SingleAgentEnvRunner object at 0x0000027190B40A10>)\n             ^^^^^^^^^^^^^^^^^^\n  File \"c:\\Users\\ushe\\VSCode\\PettingZoo_Intro\\.venv\\Lib\\site-packages\\ray\\rllib\\core\\rl_module\\torch\\torch_rl_module.py\", line 50, in __init__\n    RLModule.__init__(self, *args, **kwargs)\n  File \"c:\\Users\\ushe\\VSCode\\PettingZoo_Intro\\.venv\\Lib\\site-packages\\ray\\rllib\\core\\rl_module\\rl_module.py\", line 459, in __init__\n    self.setup()\n  File \"c:\\Users\\ushe\\VSCode\\PettingZoo_Intro\\.venv\\Lib\\site-packages\\ray\\rllib\\algorithms\\ppo\\ppo_rl_module.py\", line 28, in setup\n    self.catalog.actor_critic_encoder_config.base_encoder_config,\n    ^^^^^^^^^^^^^^^^^^^^^^^^^^^^^^^^^^^^^^^^\nAttributeError: 'NoneType' object has no attribute 'actor_critic_encoder_config'\n\nDuring handling of the above exception, another exception occurred:\n\n\u001b[36mray::SingleAgentEnvRunner.__init__()\u001b[39m (pid=39484, ip=127.0.0.1, actor_id=415991677ba2e10a3782f9d401000000, repr=<ray.rllib.env.single_agent_env_runner.SingleAgentEnvRunner object at 0x0000027190B40A10>)\n  File \"python\\ray\\_raylet.pyx\", line 1856, in ray._raylet.execute_task\n  File \"python\\ray\\_raylet.pyx\", line 1957, in ray._raylet.execute_task\n  File \"python\\ray\\_raylet.pyx\", line 1862, in ray._raylet.execute_task\n  File \"python\\ray\\_raylet.pyx\", line 1803, in ray._raylet.execute_task.function_executor\n  File \"c:\\Users\\ushe\\VSCode\\PettingZoo_Intro\\.venv\\Lib\\site-packages\\ray\\_private\\function_manager.py\", line 696, in actor_method_executor\n    return method(__ray_actor, *args, **kwargs)\n           ^^^^^^^^^^^^^^^^^^^^^^^^^^^^^^^^^^^^\n  File \"c:\\Users\\ushe\\VSCode\\PettingZoo_Intro\\.venv\\Lib\\site-packages\\ray\\util\\tracing\\tracing_helper.py\", line 467, in _resume_span\n    return method(self, *_args, **_kwargs)\n           ^^^^^^^^^^^^^^^^^^^^^^^^^^^^^^^\n  File \"c:\\Users\\ushe\\VSCode\\PettingZoo_Intro\\.venv\\Lib\\site-packages\\ray\\rllib\\env\\single_agent_env_runner.py\", line 106, in __init__\n    self.module = module_spec.build()\n                  ^^^^^^^^^^^^^^^^^^^\n  File \"c:\\Users\\ushe\\VSCode\\PettingZoo_Intro\\.venv\\Lib\\site-packages\\ray\\rllib\\core\\rl_module\\rl_module.py\", line 108, in build\n    module = self.module_class(module_config)\n             ^^^^^^^^^^^^^^^^^^^^^^^^^^^^^^^^\n  File \"c:\\Users\\ushe\\VSCode\\PettingZoo_Intro\\.venv\\Lib\\site-packages\\ray\\rllib\\core\\rl_module\\torch\\torch_rl_module.py\", line 50, in __init__\n    RLModule.__init__(self, *args, **kwargs)\n  File \"c:\\Users\\ushe\\VSCode\\PettingZoo_Intro\\.venv\\Lib\\site-packages\\ray\\rllib\\core\\rl_module\\rl_module.py\", line 459, in __init__\n    self.setup()\n  File \"c:\\Users\\ushe\\VSCode\\PettingZoo_Intro\\.venv\\Lib\\site-packages\\ray\\rllib\\algorithms\\ppo\\ppo_rl_module.py\", line 28, in setup\n    self.catalog.actor_critic_encoder_config.base_encoder_config,\n    ^^^^^^^^^^^^^^^^^^^^^^^^^^^^^^^^^^^^^^^^\nAttributeError: 'NoneType' object has no attribute 'actor_critic_encoder_config'",
      "\nDuring handling of the above exception, another exception occurred:\n",
      "\u001b[1;31mAttributeError\u001b[0m                            Traceback (most recent call last)",
      "Cell \u001b[1;32mIn[3], line 11\u001b[0m\n\u001b[0;32m      6\u001b[0m config\u001b[38;5;241m.\u001b[39menvironment(env\u001b[38;5;241m=\u001b[39menv_name)\n\u001b[0;32m      7\u001b[0m config\u001b[38;5;241m.\u001b[39mtraining(\n\u001b[0;32m      8\u001b[0m     gamma\u001b[38;5;241m=\u001b[39m\u001b[38;5;241m0.9\u001b[39m, lr\u001b[38;5;241m=\u001b[39m\u001b[38;5;241m0.01\u001b[39m, kl_coeff\u001b[38;5;241m=\u001b[39m\u001b[38;5;241m0.3\u001b[39m, train_batch_size_per_learner\u001b[38;5;241m=\u001b[39m\u001b[38;5;241m256\u001b[39m\n\u001b[0;32m      9\u001b[0m )\n\u001b[1;32m---> 11\u001b[0m algorithm \u001b[38;5;241m=\u001b[39m \u001b[43mconfig\u001b[49m\u001b[38;5;241;43m.\u001b[39;49m\u001b[43mbuild\u001b[49m\u001b[43m(\u001b[49m\u001b[43m)\u001b[49m\n",
      "File \u001b[1;32mc:\\Users\\ushe\\VSCode\\PettingZoo_Intro\\.venv\\Lib\\site-packages\\ray\\rllib\\algorithms\\algorithm_config.py:952\u001b[0m, in \u001b[0;36mAlgorithmConfig.build\u001b[1;34m(self, env, logger_creator, use_copy)\u001b[0m\n\u001b[0;32m    949\u001b[0m \u001b[38;5;28;01mif\u001b[39;00m \u001b[38;5;28misinstance\u001b[39m(\u001b[38;5;28mself\u001b[39m\u001b[38;5;241m.\u001b[39malgo_class, \u001b[38;5;28mstr\u001b[39m):\n\u001b[0;32m    950\u001b[0m     algo_class \u001b[38;5;241m=\u001b[39m get_trainable_cls(\u001b[38;5;28mself\u001b[39m\u001b[38;5;241m.\u001b[39malgo_class)\n\u001b[1;32m--> 952\u001b[0m \u001b[38;5;28;01mreturn\u001b[39;00m \u001b[43malgo_class\u001b[49m\u001b[43m(\u001b[49m\n\u001b[0;32m    953\u001b[0m \u001b[43m    \u001b[49m\u001b[43mconfig\u001b[49m\u001b[38;5;241;43m=\u001b[39;49m\u001b[38;5;28;43mself\u001b[39;49m\u001b[43m \u001b[49m\u001b[38;5;28;43;01mif\u001b[39;49;00m\u001b[43m \u001b[49m\u001b[38;5;129;43;01mnot\u001b[39;49;00m\u001b[43m \u001b[49m\u001b[43muse_copy\u001b[49m\u001b[43m \u001b[49m\u001b[38;5;28;43;01melse\u001b[39;49;00m\u001b[43m \u001b[49m\u001b[43mcopy\u001b[49m\u001b[38;5;241;43m.\u001b[39;49m\u001b[43mdeepcopy\u001b[49m\u001b[43m(\u001b[49m\u001b[38;5;28;43mself\u001b[39;49m\u001b[43m)\u001b[49m\u001b[43m,\u001b[49m\n\u001b[0;32m    954\u001b[0m \u001b[43m    \u001b[49m\u001b[43mlogger_creator\u001b[49m\u001b[38;5;241;43m=\u001b[39;49m\u001b[38;5;28;43mself\u001b[39;49m\u001b[38;5;241;43m.\u001b[39;49m\u001b[43mlogger_creator\u001b[49m\u001b[43m,\u001b[49m\n\u001b[0;32m    955\u001b[0m \u001b[43m\u001b[49m\u001b[43m)\u001b[49m\n",
      "File \u001b[1;32mc:\\Users\\ushe\\VSCode\\PettingZoo_Intro\\.venv\\Lib\\site-packages\\ray\\rllib\\algorithms\\algorithm.py:584\u001b[0m, in \u001b[0;36mAlgorithm.__init__\u001b[1;34m(self, config, env, logger_creator, **kwargs)\u001b[0m\n\u001b[0;32m    581\u001b[0m \u001b[38;5;66;03m# Evaluation EnvRunnerGroup and metrics last returned by `self.evaluate()`.\u001b[39;00m\n\u001b[0;32m    582\u001b[0m \u001b[38;5;28mself\u001b[39m\u001b[38;5;241m.\u001b[39meval_env_runner_group: Optional[EnvRunnerGroup] \u001b[38;5;241m=\u001b[39m \u001b[38;5;28;01mNone\u001b[39;00m\n\u001b[1;32m--> 584\u001b[0m \u001b[38;5;28;43msuper\u001b[39;49m\u001b[43m(\u001b[49m\u001b[43m)\u001b[49m\u001b[38;5;241;43m.\u001b[39;49m\u001b[38;5;21;43m__init__\u001b[39;49m\u001b[43m(\u001b[49m\n\u001b[0;32m    585\u001b[0m \u001b[43m    \u001b[49m\u001b[43mconfig\u001b[49m\u001b[38;5;241;43m=\u001b[39;49m\u001b[43mconfig\u001b[49m\u001b[43m,\u001b[49m\n\u001b[0;32m    586\u001b[0m \u001b[43m    \u001b[49m\u001b[43mlogger_creator\u001b[49m\u001b[38;5;241;43m=\u001b[39;49m\u001b[43mlogger_creator\u001b[49m\u001b[43m,\u001b[49m\n\u001b[0;32m    587\u001b[0m \u001b[43m    \u001b[49m\u001b[38;5;241;43m*\u001b[39;49m\u001b[38;5;241;43m*\u001b[39;49m\u001b[43mkwargs\u001b[49m\u001b[43m,\u001b[49m\n\u001b[0;32m    588\u001b[0m \u001b[43m\u001b[49m\u001b[43m)\u001b[49m\n",
      "File \u001b[1;32mc:\\Users\\ushe\\VSCode\\PettingZoo_Intro\\.venv\\Lib\\site-packages\\ray\\tune\\trainable\\trainable.py:158\u001b[0m, in \u001b[0;36mTrainable.__init__\u001b[1;34m(self, config, logger_creator, storage)\u001b[0m\n\u001b[0;32m    154\u001b[0m     logger\u001b[38;5;241m.\u001b[39mdebug(\u001b[38;5;124mf\u001b[39m\u001b[38;5;124m\"\u001b[39m\u001b[38;5;124mStorageContext on the TRAINABLE:\u001b[39m\u001b[38;5;130;01m\\n\u001b[39;00m\u001b[38;5;132;01m{\u001b[39;00mstorage\u001b[38;5;132;01m}\u001b[39;00m\u001b[38;5;124m\"\u001b[39m)\n\u001b[0;32m    156\u001b[0m \u001b[38;5;28mself\u001b[39m\u001b[38;5;241m.\u001b[39m_open_logfiles(stdout_file, stderr_file)\n\u001b[1;32m--> 158\u001b[0m \u001b[38;5;28;43mself\u001b[39;49m\u001b[38;5;241;43m.\u001b[39;49m\u001b[43msetup\u001b[49m\u001b[43m(\u001b[49m\u001b[43mcopy\u001b[49m\u001b[38;5;241;43m.\u001b[39;49m\u001b[43mdeepcopy\u001b[49m\u001b[43m(\u001b[49m\u001b[38;5;28;43mself\u001b[39;49m\u001b[38;5;241;43m.\u001b[39;49m\u001b[43mconfig\u001b[49m\u001b[43m)\u001b[49m\u001b[43m)\u001b[49m\n\u001b[0;32m    159\u001b[0m setup_time \u001b[38;5;241m=\u001b[39m time\u001b[38;5;241m.\u001b[39mtime() \u001b[38;5;241m-\u001b[39m \u001b[38;5;28mself\u001b[39m\u001b[38;5;241m.\u001b[39m_start_time\n\u001b[0;32m    160\u001b[0m \u001b[38;5;28;01mif\u001b[39;00m setup_time \u001b[38;5;241m>\u001b[39m SETUP_TIME_THRESHOLD:\n",
      "File \u001b[1;32mc:\\Users\\ushe\\VSCode\\PettingZoo_Intro\\.venv\\Lib\\site-packages\\ray\\rllib\\algorithms\\algorithm.py:670\u001b[0m, in \u001b[0;36mAlgorithm.setup\u001b[1;34m(self, config)\u001b[0m\n\u001b[0;32m    667\u001b[0m     \u001b[38;5;28mself\u001b[39m\u001b[38;5;241m.\u001b[39mconfig\u001b[38;5;241m.\u001b[39moff_policy_estimation_methods \u001b[38;5;241m=\u001b[39m ope_dict\n\u001b[0;32m    669\u001b[0m \u001b[38;5;66;03m# Create a set of env runner actors via a EnvRunnerGroup.\u001b[39;00m\n\u001b[1;32m--> 670\u001b[0m \u001b[38;5;28mself\u001b[39m\u001b[38;5;241m.\u001b[39menv_runner_group \u001b[38;5;241m=\u001b[39m \u001b[43mEnvRunnerGroup\u001b[49m\u001b[43m(\u001b[49m\n\u001b[0;32m    671\u001b[0m \u001b[43m    \u001b[49m\u001b[43menv_creator\u001b[49m\u001b[38;5;241;43m=\u001b[39;49m\u001b[38;5;28;43mself\u001b[39;49m\u001b[38;5;241;43m.\u001b[39;49m\u001b[43menv_creator\u001b[49m\u001b[43m,\u001b[49m\n\u001b[0;32m    672\u001b[0m \u001b[43m    \u001b[49m\u001b[43mvalidate_env\u001b[49m\u001b[38;5;241;43m=\u001b[39;49m\u001b[38;5;28;43mself\u001b[39;49m\u001b[38;5;241;43m.\u001b[39;49m\u001b[43mvalidate_env\u001b[49m\u001b[43m,\u001b[49m\n\u001b[0;32m    673\u001b[0m \u001b[43m    \u001b[49m\u001b[43mdefault_policy_class\u001b[49m\u001b[38;5;241;43m=\u001b[39;49m\u001b[38;5;28;43mself\u001b[39;49m\u001b[38;5;241;43m.\u001b[39;49m\u001b[43mget_default_policy_class\u001b[49m\u001b[43m(\u001b[49m\u001b[38;5;28;43mself\u001b[39;49m\u001b[38;5;241;43m.\u001b[39;49m\u001b[43mconfig\u001b[49m\u001b[43m)\u001b[49m\u001b[43m,\u001b[49m\n\u001b[0;32m    674\u001b[0m \u001b[43m    \u001b[49m\u001b[43mconfig\u001b[49m\u001b[38;5;241;43m=\u001b[39;49m\u001b[38;5;28;43mself\u001b[39;49m\u001b[38;5;241;43m.\u001b[39;49m\u001b[43mconfig\u001b[49m\u001b[43m,\u001b[49m\n\u001b[0;32m    675\u001b[0m \u001b[43m    \u001b[49m\u001b[43mnum_env_runners\u001b[49m\u001b[38;5;241;43m=\u001b[39;49m\u001b[43m(\u001b[49m\n\u001b[0;32m    676\u001b[0m \u001b[43m        \u001b[49m\u001b[38;5;241;43m0\u001b[39;49m\n\u001b[0;32m    677\u001b[0m \u001b[43m        \u001b[49m\u001b[38;5;28;43;01mif\u001b[39;49;00m\u001b[43m \u001b[49m\u001b[43m(\u001b[49m\n\u001b[0;32m    678\u001b[0m \u001b[43m            \u001b[49m\u001b[38;5;28;43mself\u001b[39;49m\u001b[38;5;241;43m.\u001b[39;49m\u001b[43mconfig\u001b[49m\u001b[38;5;241;43m.\u001b[39;49m\u001b[43minput_\u001b[49m\n\u001b[0;32m    679\u001b[0m \u001b[43m            \u001b[49m\u001b[38;5;129;43;01mand\u001b[39;49;00m\u001b[43m \u001b[49m\u001b[43m(\u001b[49m\n\u001b[0;32m    680\u001b[0m \u001b[43m                \u001b[49m\u001b[38;5;28;43misinstance\u001b[39;49m\u001b[43m(\u001b[49m\u001b[38;5;28;43mself\u001b[39;49m\u001b[38;5;241;43m.\u001b[39;49m\u001b[43mconfig\u001b[49m\u001b[38;5;241;43m.\u001b[39;49m\u001b[43minput_\u001b[49m\u001b[43m,\u001b[49m\u001b[43m \u001b[49m\u001b[38;5;28;43mstr\u001b[39;49m\u001b[43m)\u001b[49m\n\u001b[0;32m    681\u001b[0m \u001b[43m                \u001b[49m\u001b[38;5;129;43;01mor\u001b[39;49;00m\u001b[43m \u001b[49m\u001b[43m(\u001b[49m\n\u001b[0;32m    682\u001b[0m \u001b[43m                    \u001b[49m\u001b[38;5;28;43misinstance\u001b[39;49m\u001b[43m(\u001b[49m\u001b[38;5;28;43mself\u001b[39;49m\u001b[38;5;241;43m.\u001b[39;49m\u001b[43mconfig\u001b[49m\u001b[38;5;241;43m.\u001b[39;49m\u001b[43minput_\u001b[49m\u001b[43m,\u001b[49m\u001b[43m \u001b[49m\u001b[38;5;28;43mlist\u001b[39;49m\u001b[43m)\u001b[49m\n\u001b[0;32m    683\u001b[0m \u001b[43m                    \u001b[49m\u001b[38;5;129;43;01mand\u001b[39;49;00m\u001b[43m \u001b[49m\u001b[38;5;28;43misinstance\u001b[39;49m\u001b[43m(\u001b[49m\u001b[38;5;28;43mself\u001b[39;49m\u001b[38;5;241;43m.\u001b[39;49m\u001b[43mconfig\u001b[49m\u001b[38;5;241;43m.\u001b[39;49m\u001b[43minput_\u001b[49m\u001b[43m[\u001b[49m\u001b[38;5;241;43m0\u001b[39;49m\u001b[43m]\u001b[49m\u001b[43m,\u001b[49m\u001b[43m \u001b[49m\u001b[38;5;28;43mstr\u001b[39;49m\u001b[43m)\u001b[49m\n\u001b[0;32m    684\u001b[0m \u001b[43m                \u001b[49m\u001b[43m)\u001b[49m\n\u001b[0;32m    685\u001b[0m \u001b[43m            \u001b[49m\u001b[43m)\u001b[49m\n\u001b[0;32m    686\u001b[0m \u001b[43m            \u001b[49m\u001b[38;5;129;43;01mand\u001b[39;49;00m\u001b[43m \u001b[49m\u001b[38;5;28;43mself\u001b[39;49m\u001b[38;5;241;43m.\u001b[39;49m\u001b[43mconfig\u001b[49m\u001b[38;5;241;43m.\u001b[39;49m\u001b[43minput_\u001b[49m\u001b[43m \u001b[49m\u001b[38;5;241;43m!=\u001b[39;49m\u001b[43m \u001b[49m\u001b[38;5;124;43m\"\u001b[39;49m\u001b[38;5;124;43msampler\u001b[39;49m\u001b[38;5;124;43m\"\u001b[39;49m\n\u001b[0;32m    687\u001b[0m \u001b[43m            \u001b[49m\u001b[38;5;129;43;01mand\u001b[39;49;00m\u001b[43m \u001b[49m\u001b[38;5;28;43mself\u001b[39;49m\u001b[38;5;241;43m.\u001b[39;49m\u001b[43mconfig\u001b[49m\u001b[38;5;241;43m.\u001b[39;49m\u001b[43menable_rl_module_and_learner\u001b[49m\n\u001b[0;32m    688\u001b[0m \u001b[43m        \u001b[49m\u001b[43m)\u001b[49m\n\u001b[0;32m    689\u001b[0m \u001b[43m        \u001b[49m\u001b[38;5;28;43;01melse\u001b[39;49;00m\u001b[43m \u001b[49m\u001b[38;5;28;43mself\u001b[39;49m\u001b[38;5;241;43m.\u001b[39;49m\u001b[43mconfig\u001b[49m\u001b[38;5;241;43m.\u001b[39;49m\u001b[43mnum_env_runners\u001b[49m\n\u001b[0;32m    690\u001b[0m \u001b[43m    \u001b[49m\u001b[43m)\u001b[49m\u001b[43m,\u001b[49m\n\u001b[0;32m    691\u001b[0m \u001b[43m    \u001b[49m\u001b[43mlocal_env_runner\u001b[49m\u001b[38;5;241;43m=\u001b[39;49m\u001b[38;5;28;43;01mTrue\u001b[39;49;00m\u001b[43m,\u001b[49m\n\u001b[0;32m    692\u001b[0m \u001b[43m    \u001b[49m\u001b[43mlogdir\u001b[49m\u001b[38;5;241;43m=\u001b[39;49m\u001b[38;5;28;43mself\u001b[39;49m\u001b[38;5;241;43m.\u001b[39;49m\u001b[43mlogdir\u001b[49m\u001b[43m,\u001b[49m\n\u001b[0;32m    693\u001b[0m \u001b[43m    \u001b[49m\u001b[43mtune_trial_id\u001b[49m\u001b[38;5;241;43m=\u001b[39;49m\u001b[38;5;28;43mself\u001b[39;49m\u001b[38;5;241;43m.\u001b[39;49m\u001b[43mtrial_id\u001b[49m\u001b[43m,\u001b[49m\n\u001b[0;32m    694\u001b[0m \u001b[43m\u001b[49m\u001b[43m)\u001b[49m\n\u001b[0;32m    696\u001b[0m \u001b[38;5;66;03m# If an input path is available and we are on the new API stack generate\u001b[39;00m\n\u001b[0;32m    697\u001b[0m \u001b[38;5;66;03m# an `OfflineData` instance.\u001b[39;00m\n\u001b[0;32m    698\u001b[0m \u001b[38;5;28;01mif\u001b[39;00m (\n\u001b[0;32m    699\u001b[0m     \u001b[38;5;28mself\u001b[39m\u001b[38;5;241m.\u001b[39mconfig\u001b[38;5;241m.\u001b[39minput_\n\u001b[0;32m    700\u001b[0m     \u001b[38;5;129;01mand\u001b[39;00m (\n\u001b[1;32m   (...)\u001b[0m\n\u001b[0;32m    708\u001b[0m     \u001b[38;5;129;01mand\u001b[39;00m \u001b[38;5;28mself\u001b[39m\u001b[38;5;241m.\u001b[39mconfig\u001b[38;5;241m.\u001b[39menable_rl_module_and_learner\n\u001b[0;32m    709\u001b[0m ):\n",
      "File \u001b[1;32mc:\\Users\\ushe\\VSCode\\PettingZoo_Intro\\.venv\\Lib\\site-packages\\ray\\rllib\\env\\env_runner_group.py:216\u001b[0m, in \u001b[0;36mEnvRunnerGroup.__init__\u001b[1;34m(self, env_creator, validate_env, default_policy_class, config, num_env_runners, local_env_runner, logdir, _setup, tune_trial_id, num_workers, local_worker)\u001b[0m\n\u001b[0;32m    203\u001b[0m \u001b[38;5;28;01mexcept\u001b[39;00m RayActorError \u001b[38;5;28;01mas\u001b[39;00m e:\n\u001b[0;32m    204\u001b[0m     \u001b[38;5;66;03m# In case of an actor (remote worker) init failure, the remote worker\u001b[39;00m\n\u001b[0;32m    205\u001b[0m     \u001b[38;5;66;03m# may still exist and will be accessible, however, e.g. calling\u001b[39;00m\n\u001b[0;32m    206\u001b[0m     \u001b[38;5;66;03m# its `sample.remote()` would result in strange \"property not found\"\u001b[39;00m\n\u001b[0;32m    207\u001b[0m     \u001b[38;5;66;03m# errors.\u001b[39;00m\n\u001b[0;32m    208\u001b[0m     \u001b[38;5;28;01mif\u001b[39;00m e\u001b[38;5;241m.\u001b[39mactor_init_failed:\n\u001b[0;32m    209\u001b[0m         \u001b[38;5;66;03m# Raise the original error here that the EnvRunners raised\u001b[39;00m\n\u001b[0;32m    210\u001b[0m         \u001b[38;5;66;03m# during its construction process. This is to enforce transparency\u001b[39;00m\n\u001b[1;32m   (...)\u001b[0m\n\u001b[0;32m    214\u001b[0m         \u001b[38;5;66;03m# - e.args[0].args[2]: The original Exception (e.g. a ValueError due\u001b[39;00m\n\u001b[0;32m    215\u001b[0m         \u001b[38;5;66;03m# to a config mismatch) thrown inside the actor.\u001b[39;00m\n\u001b[1;32m--> 216\u001b[0m         \u001b[38;5;28;01mraise\u001b[39;00m e\u001b[38;5;241m.\u001b[39margs[\u001b[38;5;241m0\u001b[39m]\u001b[38;5;241m.\u001b[39margs[\u001b[38;5;241m2\u001b[39m]\n\u001b[0;32m    217\u001b[0m     \u001b[38;5;66;03m# In any other case, raise the RayActorError as-is.\u001b[39;00m\n\u001b[0;32m    218\u001b[0m     \u001b[38;5;28;01melse\u001b[39;00m:\n\u001b[0;32m    219\u001b[0m         \u001b[38;5;28;01mraise\u001b[39;00m e\n",
      "\u001b[1;31mAttributeError\u001b[0m: 'NoneType' object has no attribute 'actor_critic_encoder_config'"
     ]
    }
   ],
   "source": [
    "config = PPOConfig()\n",
    "config.api_stack(\n",
    "    enable_env_runner_and_connector_v2=True,\n",
    "    enable_rl_module_and_learner=True,\n",
    ")\n",
    "config.environment(env=env_name)\n",
    "config.training(\n",
    "    gamma=0.9, lr=0.01, kl_coeff=0.3, train_batch_size_per_learner=256\n",
    ")\n",
    "\n",
    "algorithm = config.build()"
   ]
  },
  {
   "cell_type": "code",
   "execution_count": null,
   "metadata": {},
   "outputs": [],
   "source": [
    "from ray.tune.logger import pretty_print\n",
    "\n",
    "results = algorithm.train()\n",
    "pretty_print(results)"
   ]
  }
 ],
 "metadata": {
  "kernelspec": {
   "display_name": ".venv",
   "language": "python",
   "name": "python3"
  },
  "language_info": {
   "codemirror_mode": {
    "name": "ipython",
    "version": 3
   },
   "file_extension": ".py",
   "mimetype": "text/x-python",
   "name": "python",
   "nbconvert_exporter": "python",
   "pygments_lexer": "ipython3",
   "version": "3.11.6"
  }
 },
 "nbformat": 4,
 "nbformat_minor": 2
}
