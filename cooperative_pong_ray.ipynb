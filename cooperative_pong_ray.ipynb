{
 "cells": [
  {
   "cell_type": "code",
   "execution_count": 1,
   "metadata": {},
   "outputs": [
    {
     "name": "stderr",
     "output_type": "stream",
     "text": [
      "2024-10-31 15:35:54,973\tINFO worker.py:1816 -- Started a local Ray instance.\n"
     ]
    },
    {
     "data": {
      "application/vnd.jupyter.widget-view+json": {
       "model_id": "15ef2270794d4233b334e0f153b89643",
       "version_major": 2,
       "version_minor": 0
      },
      "text/html": [
       "<div class=\"lm-Widget p-Widget lm-Panel p-Panel jp-Cell-outputWrapper\">\n",
       "    <div style=\"margin-left: 50px;display: flex;flex-direction: row;align-items: center\">\n",
       "        <div class=\"jp-RenderedHTMLCommon\" style=\"display: flex; flex-direction: row;\">\n",
       "  <svg viewBox=\"0 0 567 224\" fill=\"none\" xmlns=\"http://www.w3.org/2000/svg\" style=\"height: 3em;\">\n",
       "    <g clip-path=\"url(#clip0_4338_178347)\">\n",
       "        <path d=\"M341.29 165.561H355.29L330.13 129.051C345.63 123.991 354.21 112.051 354.21 94.2307C354.21 71.3707 338.72 58.1807 311.88 58.1807H271V165.561H283.27V131.661H311.8C314.25 131.661 316.71 131.501 319.01 131.351L341.25 165.561H341.29ZM283.29 119.851V70.0007H311.82C331.3 70.0007 342.34 78.2907 342.34 94.5507C342.34 111.271 331.34 119.861 311.82 119.861L283.29 119.851ZM451.4 138.411L463.4 165.561H476.74L428.74 58.1807H416L367.83 165.561H380.83L392.83 138.411H451.4ZM446.19 126.601H398L422 72.1407L446.24 126.601H446.19ZM526.11 128.741L566.91 58.1807H554.35L519.99 114.181L485.17 58.1807H472.44L514.01 129.181V165.541H526.13V128.741H526.11Z\" fill=\"var(--jp-ui-font-color0)\"/>\n",
       "        <path d=\"M82.35 104.44C84.0187 97.8827 87.8248 92.0678 93.1671 87.9146C98.5094 83.7614 105.083 81.5067 111.85 81.5067C118.617 81.5067 125.191 83.7614 130.533 87.9146C135.875 92.0678 139.681 97.8827 141.35 104.44H163.75C164.476 101.562 165.622 98.8057 167.15 96.2605L127.45 56.5605C121.071 60.3522 113.526 61.6823 106.235 60.3005C98.9443 58.9187 92.4094 54.9203 87.8602 49.0574C83.3109 43.1946 81.0609 35.8714 81.5332 28.4656C82.0056 21.0599 85.1679 14.0819 90.4252 8.8446C95.6824 3.60726 102.672 0.471508 110.08 0.0272655C117.487 -0.416977 124.802 1.86091 130.647 6.4324C136.493 11.0039 140.467 17.5539 141.821 24.8501C143.175 32.1463 141.816 39.6859 138 46.0505L177.69 85.7505C182.31 82.9877 187.58 81.4995 192.962 81.4375C198.345 81.3755 203.648 82.742 208.33 85.3976C213.012 88.0532 216.907 91.9029 219.616 96.5544C222.326 101.206 223.753 106.492 223.753 111.875C223.753 117.258 222.326 122.545 219.616 127.197C216.907 131.848 213.012 135.698 208.33 138.353C203.648 141.009 198.345 142.375 192.962 142.313C187.58 142.251 182.31 140.763 177.69 138L138 177.7C141.808 184.071 143.155 191.614 141.79 198.91C140.424 206.205 136.44 212.75 130.585 217.313C124.731 221.875 117.412 224.141 110.004 223.683C102.596 223.226 95.6103 220.077 90.3621 214.828C85.1139 209.58 81.9647 202.595 81.5072 195.187C81.0497 187.779 83.3154 180.459 87.878 174.605C92.4405 168.751 98.9853 164.766 106.281 163.401C113.576 162.035 121.119 163.383 127.49 167.19L167.19 127.49C165.664 124.941 164.518 122.182 163.79 119.3H141.39C139.721 125.858 135.915 131.673 130.573 135.826C125.231 139.98 118.657 142.234 111.89 142.234C105.123 142.234 98.5494 139.98 93.2071 135.826C87.8648 131.673 84.0587 125.858 82.39 119.3H60C58.1878 126.495 53.8086 132.78 47.6863 136.971C41.5641 141.163 34.1211 142.972 26.7579 142.059C19.3947 141.146 12.6191 137.574 7.70605 132.014C2.79302 126.454 0.0813599 119.29 0.0813599 111.87C0.0813599 104.451 2.79302 97.2871 7.70605 91.7272C12.6191 86.1673 19.3947 82.5947 26.7579 81.6817C34.1211 80.7686 41.5641 82.5781 47.6863 86.7696C53.8086 90.9611 58.1878 97.2456 60 104.44H82.35ZM100.86 204.32C103.407 206.868 106.759 208.453 110.345 208.806C113.93 209.159 117.527 208.258 120.522 206.256C123.517 204.254 125.725 201.276 126.771 197.828C127.816 194.38 127.633 190.677 126.253 187.349C124.874 184.021 122.383 181.274 119.205 179.577C116.027 177.88 112.359 177.337 108.826 178.042C105.293 178.746 102.113 180.654 99.8291 183.44C97.5451 186.226 96.2979 189.718 96.3 193.32C96.2985 195.364 96.7006 197.388 97.4831 199.275C98.2656 201.163 99.4132 202.877 100.86 204.32ZM204.32 122.88C206.868 120.333 208.453 116.981 208.806 113.396C209.159 109.811 208.258 106.214 206.256 103.219C204.254 100.223 201.275 98.0151 197.827 96.97C194.38 95.9249 190.676 96.1077 187.348 97.4873C184.02 98.8669 181.274 101.358 179.577 104.536C177.879 107.714 177.337 111.382 178.041 114.915C178.746 118.448 180.653 121.627 183.439 123.911C186.226 126.195 189.717 127.443 193.32 127.44C195.364 127.443 197.388 127.042 199.275 126.259C201.163 125.476 202.878 124.328 204.32 122.88ZM122.88 19.4205C120.333 16.8729 116.981 15.2876 113.395 14.9347C109.81 14.5817 106.213 15.483 103.218 17.4849C100.223 19.4868 98.0146 22.4654 96.9696 25.9131C95.9245 29.3608 96.1073 33.0642 97.4869 36.3922C98.8665 39.7202 101.358 42.4668 104.535 44.1639C107.713 45.861 111.381 46.4036 114.914 45.6992C118.447 44.9949 121.627 43.0871 123.911 40.301C126.195 37.515 127.442 34.0231 127.44 30.4205C127.44 28.3772 127.038 26.3539 126.255 24.4664C125.473 22.5788 124.326 20.8642 122.88 19.4205ZM19.42 100.86C16.8725 103.408 15.2872 106.76 14.9342 110.345C14.5813 113.93 15.4826 117.527 17.4844 120.522C19.4863 123.518 22.4649 125.726 25.9127 126.771C29.3604 127.816 33.0638 127.633 36.3918 126.254C39.7198 124.874 42.4664 122.383 44.1635 119.205C45.8606 116.027 46.4032 112.359 45.6988 108.826C44.9944 105.293 43.0866 102.114 40.3006 99.8296C37.5145 97.5455 34.0227 96.2983 30.42 96.3005C26.2938 96.3018 22.337 97.9421 19.42 100.86ZM100.86 100.86C98.3125 103.408 96.7272 106.76 96.3742 110.345C96.0213 113.93 96.9226 117.527 98.9244 120.522C100.926 123.518 103.905 125.726 107.353 126.771C110.8 127.816 114.504 127.633 117.832 126.254C121.16 124.874 123.906 122.383 125.604 119.205C127.301 116.027 127.843 112.359 127.139 108.826C126.434 105.293 124.527 102.114 121.741 99.8296C118.955 97.5455 115.463 96.2983 111.86 96.3005C109.817 96.299 107.793 96.701 105.905 97.4835C104.018 98.2661 102.303 99.4136 100.86 100.86Z\" fill=\"#00AEEF\"/>\n",
       "    </g>\n",
       "    <defs>\n",
       "        <clipPath id=\"clip0_4338_178347\">\n",
       "            <rect width=\"566.93\" height=\"223.75\" fill=\"white\"/>\n",
       "        </clipPath>\n",
       "    </defs>\n",
       "  </svg>\n",
       "</div>\n",
       "\n",
       "        <table class=\"jp-RenderedHTMLCommon\" style=\"border-collapse: collapse;color: var(--jp-ui-font-color1);font-size: var(--jp-ui-font-size1);\">\n",
       "    <tr>\n",
       "        <td style=\"text-align: left\"><b>Python version:</b></td>\n",
       "        <td style=\"text-align: left\"><b>3.11.6</b></td>\n",
       "    </tr>\n",
       "    <tr>\n",
       "        <td style=\"text-align: left\"><b>Ray version:</b></td>\n",
       "        <td style=\"text-align: left\"><b>2.38.0</b></td>\n",
       "    </tr>\n",
       "    \n",
       "</table>\n",
       "\n",
       "    </div>\n",
       "</div>\n"
      ],
      "text/plain": [
       "RayContext(dashboard_url='', python_version='3.11.6', ray_version='2.38.0', ray_commit='385ee466260ef3cd218d5e372aef5d39338b7b94')"
      ]
     },
     "execution_count": 1,
     "metadata": {},
     "output_type": "execute_result"
    }
   ],
   "source": [
    "import os\n",
    "import ray\n",
    "import supersuit as ss \n",
    "from ray import tune    # experiment runner\n",
    "from pettingzoo.butterfly import cooperative_pong_v5\n",
    "from ray.tune.registry import register_env\n",
    "from ray.rllib.env import ParallelPettingZooEnv\n",
    "from ray.rllib.algorithms.ppo import PPOConfig\n",
    "\n",
    "ray.shutdown()   # restart ray\n",
    "ray.init(num_cpus=6)"
   ]
  },
  {
   "cell_type": "markdown",
   "metadata": {},
   "source": [
    "# Ray, RLLib and Pettingzoo\n",
    "To perform RL experiments with Ray, four things are needed: \n",
    "1. RL Environment \n",
    "2. RL Algorithm\n",
    "3. Configuration of the environment, algorithm and the experiment\n",
    "4. Experiment Runner\n",
    "\n",
    "\n",
    "The multi-agent environments from PettingZoo are not directly compatible with Ray, and need to be wrapped with either the ```PettingZooEnv``` or the ```PettingZooParallelEnv``` wrappers, depending on whether an ```AEC``` or a ```ParallelEnv``` environment is being used. In the following the ```ParallelEnv``` option will be shown using the ```cooperative_pong_v5```."
   ]
  },
  {
   "cell_type": "code",
   "execution_count": 2,
   "metadata": {},
   "outputs": [],
   "source": [
    "env_name = 'cooperative_pong'\n",
    "\n",
    "def env_creator(env_config):\n",
    "    env = cooperative_pong_v5.parallel_env(render_mode=env_config.get(\"render_mode\", \"human\"))\n",
    "    env = ss.color_reduction_v0(env, mode='B')\n",
    "    env = ss.resize_v1(env, x_size=84, y_size=84)\n",
    "    env = ss.frame_stack_v1(env, 4)\n",
    "    env = ss.dtype_v0(env, 'float32')\n",
    "    return env\n",
    "\n",
    "register_env(env_name, lambda config: ParallelPettingZooEnv(env_creator(config)))"
   ]
  },
  {
   "cell_type": "markdown",
   "metadata": {},
   "source": [
    "In the ```env_creator``` function we initialise the environment and using ```Supersuit``` we wrap the environment to be compatible with the ```rllib``` algorithms. The single functions are described [here](https://pypi.org/project/SuperSuit/3.3.1/). \n",
    "\n",
    "By registering the environment under the ```env_name``` we can access it from the ```rllib``` API. When the env is called, it invokes the ```env_creator``` function defined above and passes the arguments in ```config```. The ```.get()``` function retrieves the values for the key, allowing the specification of a default value if that key doesn't exist in the dictionary."
   ]
  },
  {
   "cell_type": "markdown",
   "metadata": {},
   "source": [
    "## Algorithm and AlgorithmConfig"
   ]
  },
  {
   "cell_type": "markdown",
   "metadata": {},
   "source": [
    "We pass all important configuration setting to the ```PPOConfig``` class and run an experiment using a ``tune.Tuner`` object. \n",
    "\n",
    ", two variants of configuring and running an algorithm. One method is to set all configuration settings in the ```config``` object directly when accessing ```PPOConfig``` and run the configuration using ```tune.run()```."
   ]
  },
  {
   "cell_type": "code",
   "execution_count": 6,
   "metadata": {},
   "outputs": [
    {
     "name": "stderr",
     "output_type": "stream",
     "text": [
      "2024-10-31 16:46:10,677\tWARNING deprecation.py:50 -- DeprecationWarning: `config.training(num_sgd_iter=..)` has been deprecated. Use `config.training(num_epochs=..)` instead. This will raise an error in the future!\n"
     ]
    }
   ],
   "source": [
    "config = (\n",
    "    PPOConfig()\n",
    "    .environment(env=env_name)\n",
    "    .framework(\"torch\")\n",
    "    .training(\n",
    "            train_batch_size=512,\n",
    "            lr=2e-5,\n",
    "            gamma=0.99,\n",
    "            lambda_=0.9,\n",
    "            use_gae=True,\n",
    "            clip_param=0.4,\n",
    "            grad_clip=None,\n",
    "            entropy_coeff=0.1,\n",
    "            vf_loss_coeff=0.25,\n",
    "            num_sgd_iter=10,\n",
    "    )\n",
    ")\n",
    "\n"
   ]
  },
  {
   "cell_type": "markdown",
   "metadata": {},
   "source": [
    "## Ray Train vs. Tune\n",
    "When a use-defined training function is desired, using the ``Trainer`` from the ``ray.train`` module can be useful, as it allows for custom training logic, model and dataset loading, training loop, checkpoint saving and logging metrics. In our case, no custom training function is necessary, so we can allow ``ray.tune.run()`` to handle the training logic for us. \n",
    "\n",
    "We take the previously defined configuration, passing the name of our experiment and set stop criterion based on the average episode reward and overall steps. "
   ]
  },
  {
   "cell_type": "code",
   "execution_count": 10,
   "metadata": {},
   "outputs": [
    {
     "name": "stderr",
     "output_type": "stream",
     "text": [
      "2024-10-31 16:52:54,332\tINFO tune.py:616 -- [output] This uses the legacy output and progress reporter, as Jupyter notebooks are not supported by the new engine, yet. For more information, please see https://github.com/ray-project/ray/issues/36949\n"
     ]
    },
    {
     "data": {
      "text/html": [
       "<div class=\"tuneStatus\">\n",
       "  <div style=\"display: flex;flex-direction: row\">\n",
       "    <div style=\"display: flex;flex-direction: column;\">\n",
       "      <h3>Tune Status</h3>\n",
       "      <table>\n",
       "<tbody>\n",
       "<tr><td>Current time:</td><td>2024-10-31 17:04:06</td></tr>\n",
       "<tr><td>Running for: </td><td>00:11:12.40        </td></tr>\n",
       "<tr><td>Memory:      </td><td>19.9/31.3 GiB      </td></tr>\n",
       "</tbody>\n",
       "</table>\n",
       "    </div>\n",
       "    <div class=\"vDivider\"></div>\n",
       "    <div class=\"systemInfo\">\n",
       "      <h3>System Info</h3>\n",
       "      Using FIFO scheduling algorithm.<br>Logical resource usage: 3.0/6 CPUs, 0/0 GPUs\n",
       "    </div>\n",
       "    \n",
       "  </div>\n",
       "  <div class=\"hDivider\"></div>\n",
       "  <div class=\"trialStatus\">\n",
       "    <h3>Trial Status</h3>\n",
       "    <table>\n",
       "<thead>\n",
       "<tr><th>Trial name                      </th><th>status  </th><th>loc            </th><th style=\"text-align: right;\">  iter</th><th style=\"text-align: right;\">  total time (s)</th><th style=\"text-align: right;\">  ts</th><th style=\"text-align: right;\">  num_healthy_workers</th><th style=\"text-align: right;\">  num_in_flight_async_\n",
       "sample_reqs</th><th style=\"text-align: right;\">  num_remote_worker_re\n",
       "starts</th></tr>\n",
       "</thead>\n",
       "<tbody>\n",
       "<tr><td>PPO_cooperative_pong_30efb_00000</td><td>RUNNING </td><td>127.0.0.1:34840</td><td style=\"text-align: right;\">    13</td><td style=\"text-align: right;\">         645.765</td><td style=\"text-align: right;\">6656</td><td style=\"text-align: right;\">                    2</td><td style=\"text-align: right;\">0</td><td style=\"text-align: right;\">0</td></tr>\n",
       "</tbody>\n",
       "</table>\n",
       "  </div>\n",
       "</div>\n",
       "<style>\n",
       ".tuneStatus {\n",
       "  color: var(--jp-ui-font-color1);\n",
       "}\n",
       ".tuneStatus .systemInfo {\n",
       "  display: flex;\n",
       "  flex-direction: column;\n",
       "}\n",
       ".tuneStatus td {\n",
       "  white-space: nowrap;\n",
       "}\n",
       ".tuneStatus .trialStatus {\n",
       "  display: flex;\n",
       "  flex-direction: column;\n",
       "}\n",
       ".tuneStatus h3 {\n",
       "  font-weight: bold;\n",
       "}\n",
       ".tuneStatus .hDivider {\n",
       "  border-bottom-width: var(--jp-border-width);\n",
       "  border-bottom-color: var(--jp-border-color0);\n",
       "  border-bottom-style: solid;\n",
       "}\n",
       ".tuneStatus .vDivider {\n",
       "  border-left-width: var(--jp-border-width);\n",
       "  border-left-color: var(--jp-border-color0);\n",
       "  border-left-style: solid;\n",
       "  margin: 0.5em 1em 0.5em 1em;\n",
       "}\n",
       "</style>\n"
      ],
      "text/plain": [
       "<IPython.core.display.HTML object>"
      ]
     },
     "metadata": {},
     "output_type": "display_data"
    },
    {
     "data": {
      "text/html": [
       "<div class=\"trialProgress\">\n",
       "  <h3>Trial Progress</h3>\n",
       "  <table>\n",
       "<thead>\n",
       "<tr><th>Trial name                      </th><th style=\"text-align: right;\">  agent_timesteps_total</th><th>counters                                                                                                                          </th><th>custom_metrics  </th><th>env_runners                                                                                                                                                                                                                                                                                                                                                                                                                                                                                                                                                                                                                                                                                                                                                                                                                                                                                                                                                                                                                                                                                                                                                                                                                                                                                                                                                                                                                                                                                                                                                                                                                                                                                                                                                                                                                                                                                                                                                                                                                                                                                                                                                                                                                                                                                                                                                                                                                                                                                                                                                                                                                                                                                                                                                                                                                                                                                                                                                                                                                                                                                                                                                                                                                                                                                                                                                                                                                                                                                                                                                                                                                                                                                                                                                                                                                                                                                                                                                                                                                                                                                                                                                                                                                                                                                                                                                                                                                                                                                                                                                                                                                                                                                                                                                                                                                                                                                                                                                                                                                                                                                                                                                                                                                                                                                                                                                                                                                                                                                                                                                                                                                                                                                                                                                                                                                                                                                                                                                                                                                                                                                                                                                                                                                                                                                                                                                                                                                                                                                                                                                                                                                                                                                                                                                                                                                                                                                                                                                                                                                                                                                                                                                                                                                                                                                                                                                                                                                                         </th><th>episode_media  </th><th>info                                                                                                                                                                                                                                                                                                                                                                                                                                                                                                                                                                                                                                                                                                                                                                                                                                                                            </th><th style=\"text-align: right;\">  num_agent_steps_sampled</th><th style=\"text-align: right;\">  num_agent_steps_sampled_lifetime</th><th style=\"text-align: right;\">  num_agent_steps_trained</th><th style=\"text-align: right;\">  num_env_steps_sampled</th><th style=\"text-align: right;\">  num_env_steps_sampled_lifetime</th><th style=\"text-align: right;\">  num_env_steps_sampled_this_iter</th><th style=\"text-align: right;\">  num_env_steps_sampled_throughput_per_sec</th><th style=\"text-align: right;\">  num_env_steps_trained</th><th style=\"text-align: right;\">  num_env_steps_trained_this_iter</th><th style=\"text-align: right;\">  num_env_steps_trained_throughput_per_sec</th><th style=\"text-align: right;\">  num_healthy_workers</th><th style=\"text-align: right;\">  num_in_flight_async_sample_reqs</th><th style=\"text-align: right;\">  num_remote_worker_restarts</th><th style=\"text-align: right;\">  num_steps_trained_this_iter</th><th>perf                                                                                                  </th><th>timers                                                                                                                                                                                                                                                                               </th></tr>\n",
       "</thead>\n",
       "<tbody>\n",
       "<tr><td>PPO_cooperative_pong_30efb_00000</td><td style=\"text-align: right;\">                  13312</td><td>{&#x27;num_env_steps_sampled&#x27;: 6656, &#x27;num_env_steps_trained&#x27;: 6656, &#x27;num_agent_steps_sampled&#x27;: 13312, &#x27;num_agent_steps_trained&#x27;: 13312}</td><td>{}              </td><td>{&#x27;episode_reward_max&#x27;: 49.333333333334295, &#x27;episode_reward_min&#x27;: -13.555555555555564, &#x27;episode_reward_mean&#x27;: np.float64(-3.906172839506155), &#x27;episode_len_mean&#x27;: np.float64(73.42222222222222), &#x27;episode_media&#x27;: {}, &#x27;episodes_timesteps_total&#x27;: 6608, &#x27;policy_reward_min&#x27;: {&#x27;default_policy&#x27;: np.float64(-6.777777777777777)}, &#x27;policy_reward_max&#x27;: {&#x27;default_policy&#x27;: np.float64(24.666666666666643)}, &#x27;policy_reward_mean&#x27;: {&#x27;default_policy&#x27;: np.float64(-1.9530864197530997)}, &#x27;custom_metrics&#x27;: {}, &#x27;hist_stats&#x27;: {&#x27;episode_reward&#x27;: [-1.7777777777778248, -2.6666666666667105, -13.555555555555564, -1.3333333333333819, -6.8888888888889195, -12.444444444444457, 49.333333333334295, 8.888888888888804, -12.666666666666679, 14.222222222222186, -11.333333333333348, -13.555555555555564, -11.333333333333348, -11.333333333333348, -11.333333333333348, -12.666666666666679, -12.666666666666679, -6.8888888888889195, 12.888888888888815, -6.8888888888889195, 31.111111111111555, 0.4444444444443896, -12.666666666666679, -12.444444444444457, -12.444444444444457, -9.555555555555577, -13.555555555555564, -6.8888888888889195, -11.333333333333348, -13.555555555555564, -12.444444444444457, -11.333333333333348, -12.666666666666679, -13.555555555555564, -1.5555555555556033, -12.666666666666679, -13.555555555555564, -0.888888888888939, -7.111111111111141, -6.8888888888889195, -3.7777777777778176, -13.555555555555564, 13.111111111111043, -13.555555555555564, -13.555555555555564, -9.555555555555577, -6.8888888888889195, -11.333333333333348, -3.7777777777778176, -13.555555555555564, 6.888888888888811, 26.444444444444756, -1.5555555555556033, 16.000000000000014, -12.444444444444457, -9.555555555555577, -6.8888888888889195, -11.333333333333348, -12.444444444444457, -13.555555555555564, -13.555555555555564, -11.333333333333348, 10.444444444444354, -13.555555555555564, -13.555555555555564, -13.555555555555564, -6.8888888888889195, -11.333333333333348, 44.888888888889724, -6.8888888888889195, -6.8888888888889195, -11.333333333333348, 37.333333333333954, -13.555555555555564, 26.888888888889213, 10.666666666666575, 13.333333333333272, -13.555555555555564, -6.8888888888889195, -13.555555555555564, -11.333333333333348, -12.666666666666679, 22.444444444444642, -13.555555555555564, -12.444444444444457, -2.6666666666667105, -12.444444444444457, 9.555555555555468, -11.333333333333348, 18.2222222222223], &#x27;episode_lengths&#x27;: [83, 79, 30, 85, 60, 35, 313, 131, 34, 155, 40, 30, 40, 40, 40, 34, 34, 60, 149, 60, 231, 93, 34, 35, 35, 48, 30, 60, 40, 30, 35, 40, 34, 30, 84, 34, 30, 87, 59, 60, 74, 30, 150, 30, 30, 48, 60, 40, 74, 30, 122, 210, 84, 163, 35, 48, 60, 40, 35, 30, 30, 40, 138, 30, 30, 30, 60, 40, 293, 60, 60, 40, 259, 30, 212, 139, 151, 30, 60, 30, 40, 34, 192, 30, 35, 79, 35, 134, 40, 173], &#x27;policy_default_policy_reward&#x27;: [-0.8888888888889053, -0.8888888888889053, -1.3333333333333481, -1.3333333333333481, -6.777777777777777, -6.777777777777777, -0.6666666666666838, -0.6666666666666838, -3.4444444444444526, -3.4444444444444526, -6.222222222222221, -6.222222222222221, 24.666666666666643, 24.666666666666643, 4.444444444444409, 4.444444444444409, -6.333333333333332, -6.333333333333332, 7.111111111111068, 7.111111111111068, -5.666666666666667, -5.666666666666667, -6.777777777777777, -6.777777777777777, -5.666666666666667, -5.666666666666667, -5.666666666666667, -5.666666666666667, -5.666666666666667, -5.666666666666667, -6.333333333333332, -6.333333333333332, -6.333333333333332, -6.333333333333332, -3.4444444444444526, -3.4444444444444526, 6.444444444444404, 6.444444444444404, -3.4444444444444526, -3.4444444444444526, 15.555555555555483, 15.555555555555483, 0.2222222222222019, 0.2222222222222019, -6.333333333333332, -6.333333333333332, -6.222222222222221, -6.222222222222221, -6.222222222222221, -6.222222222222221, -4.777777777777781, -4.777777777777781, -6.777777777777777, -6.777777777777777, -3.4444444444444526, -3.4444444444444526, -5.666666666666667, -5.666666666666667, -6.777777777777777, -6.777777777777777, -6.222222222222221, -6.222222222222221, -5.666666666666667, -5.666666666666667, -6.333333333333332, -6.333333333333332, -6.777777777777777, -6.777777777777777, -0.7777777777777946, -0.7777777777777946, -6.333333333333332, -6.333333333333332, -6.777777777777777, -6.777777777777777, -0.4444444444444624, -0.4444444444444624, -3.5555555555555634, -3.5555555555555634, -3.4444444444444526, -3.4444444444444526, -1.8888888888889017, -1.8888888888889017, -6.777777777777777, -6.777777777777777, 6.5555555555555145, 6.5555555555555145, -6.777777777777777, -6.777777777777777, -6.777777777777777, -6.777777777777777, -4.777777777777781, -4.777777777777781, -3.4444444444444526, -3.4444444444444526, -5.666666666666667, -5.666666666666667, -1.8888888888889017, -1.8888888888889017, -6.777777777777777, -6.777777777777777, 3.4444444444444127, 3.4444444444444127, 13.222222222222157, 13.222222222222157, -0.7777777777777946, -0.7777777777777946, 7.999999999999954, 7.999999999999954, -6.222222222222221, -6.222222222222221, -4.777777777777781, -4.777777777777781, -3.4444444444444526, -3.4444444444444526, -5.666666666666667, -5.666666666666667, -6.222222222222221, -6.222222222222221, -6.777777777777777, -6.777777777777777, -6.777777777777777, -6.777777777777777, -5.666666666666667, -5.666666666666667, 5.222222222222184, 5.222222222222184, -6.777777777777777, -6.777777777777777, -6.777777777777777, -6.777777777777777, -6.777777777777777, -6.777777777777777, -3.4444444444444526, -3.4444444444444526, -5.666666666666667, -5.666666666666667, 22.444444444444358, 22.444444444444358, -3.4444444444444526, -3.4444444444444526, -3.4444444444444526, -3.4444444444444526, -5.666666666666667, -5.666666666666667, 18.666666666666583, 18.666666666666583, -6.777777777777777, -6.777777777777777, 13.444444444444379, 13.444444444444379, 5.333333333333295, 5.333333333333295, 6.666666666666625, 6.666666666666625, -6.777777777777777, -6.777777777777777, -3.4444444444444526, -3.4444444444444526, -6.777777777777777, -6.777777777777777, -5.666666666666667, -5.666666666666667, -6.333333333333332, -6.333333333333332, 11.222222222222165, 11.222222222222165, -6.777777777777777, -6.777777777777777, -6.222222222222221, -6.222222222222221, -1.3333333333333481, -1.3333333333333481, -6.222222222222221, -6.222222222222221, 4.777777777777741, 4.777777777777741, -5.666666666666667, -5.666666666666667, 9.111111111111061, 9.111111111111061]}, &#x27;sampler_perf&#x27;: {&#x27;mean_raw_obs_processing_ms&#x27;: np.float64(1.5577672024148892), &#x27;mean_inference_ms&#x27;: np.float64(6.990539197788687), &#x27;mean_action_processing_ms&#x27;: np.float64(0.15441445226364314), &#x27;mean_env_wait_ms&#x27;: np.float64(125.28802776120958), &#x27;mean_env_render_ms&#x27;: np.float64(0.0)}, &#x27;num_faulty_episodes&#x27;: 0, &#x27;connector_metrics&#x27;: {&#x27;ObsPreprocessorConnector_ms&#x27;: np.float64(0.013468265533447266), &#x27;StateBufferConnector_ms&#x27;: np.float64(0.0057252248128255205), &#x27;ViewRequirementAgentConnector_ms&#x27;: np.float64(0.2936585744222005)}, &#x27;num_episodes&#x27;: 8, &#x27;episode_return_max&#x27;: 49.333333333334295, &#x27;episode_return_min&#x27;: -13.555555555555564, &#x27;episode_return_mean&#x27;: np.float64(-3.906172839506155), &#x27;episodes_this_iter&#x27;: 8}</td><td>{}             </td><td>{&#x27;learner&#x27;: {&#x27;default_policy&#x27;: {&#x27;learner_stats&#x27;: {&#x27;allreduce_latency&#x27;: np.float64(0.0), &#x27;grad_gnorm&#x27;: np.float32(44.679874), &#x27;cur_kl_coeff&#x27;: np.float64(5.125781250000001), &#x27;cur_lr&#x27;: np.float64(2e-05), &#x27;total_loss&#x27;: np.float64(0.19177034539170562), &#x27;policy_loss&#x27;: np.float64(-0.07176895532757044), &#x27;vf_loss&#x27;: np.float64(1.2496330261230468), &#x27;vf_explained_var&#x27;: np.float64(0.7856563657522202), &#x27;kl&#x27;: np.float64(0.006372157076655965), &#x27;entropy&#x27;: np.float64(0.8153123579919338), &#x27;entropy_coeff&#x27;: np.float64(0.09999999999999999)}, &#x27;model&#x27;: {}, &#x27;custom_metrics&#x27;: {}, &#x27;num_agent_steps_trained&#x27;: np.float64(128.0), &#x27;num_grad_updates_lifetime&#x27;: np.float64(1000.5), &#x27;diff_num_grad_updates_vs_sampler_policy&#x27;: np.float64(39.5)}}, &#x27;num_env_steps_sampled&#x27;: 6656, &#x27;num_env_steps_trained&#x27;: 6656, &#x27;num_agent_steps_sampled&#x27;: 13312, &#x27;num_agent_steps_trained&#x27;: 13312}</td><td style=\"text-align: right;\">                    13312</td><td style=\"text-align: right;\">                             13312</td><td style=\"text-align: right;\">                    13312</td><td style=\"text-align: right;\">                   6656</td><td style=\"text-align: right;\">                            6656</td><td style=\"text-align: right;\">                              512</td><td style=\"text-align: right;\">                                   9.64331</td><td style=\"text-align: right;\">                   6656</td><td style=\"text-align: right;\">                              512</td><td style=\"text-align: right;\">                                   9.64331</td><td style=\"text-align: right;\">                    2</td><td style=\"text-align: right;\">                                0</td><td style=\"text-align: right;\">                           0</td><td style=\"text-align: right;\">                          512</td><td>{&#x27;cpu_util_percent&#x27;: np.float64(5.902666666666666), &#x27;ram_util_percent&#x27;: np.float64(62.65866666666666)}</td><td>{&#x27;training_iteration_time_ms&#x27;: 49458.651, &#x27;restore_workers_time_ms&#x27;: 0.0, &#x27;training_step_time_ms&#x27;: 49458.651, &#x27;sample_time_ms&#x27;: 34466.41, &#x27;load_time_ms&#x27;: 3.835, &#x27;load_throughput&#x27;: 133515.105, &#x27;learn_time_ms&#x27;: 14979.38, &#x27;learn_throughput&#x27;: 34.18, &#x27;synch_weights_time_ms&#x27;: 8.725}</td></tr>\n",
       "</tbody>\n",
       "</table>\n",
       "</div>\n",
       "<style>\n",
       ".trialProgress {\n",
       "  display: flex;\n",
       "  flex-direction: column;\n",
       "  color: var(--jp-ui-font-color1);\n",
       "}\n",
       ".trialProgress h3 {\n",
       "  font-weight: bold;\n",
       "}\n",
       ".trialProgress td {\n",
       "  white-space: nowrap;\n",
       "}\n",
       "</style>\n"
      ],
      "text/plain": [
       "<IPython.core.display.HTML object>"
      ]
     },
     "metadata": {},
     "output_type": "display_data"
    },
    {
     "name": "stderr",
     "output_type": "stream",
     "text": [
      "2024-10-31 17:04:06,724\tWARNING tune.py:219 -- Stop signal received (e.g. via SIGINT/Ctrl+C), ending Ray Tune run. This will try to checkpoint the experiment state one last time. Press CTRL+C (or send SIGINT/SIGKILL/SIGTERM) to skip. \n",
      "2024-10-31 17:04:06,742\tINFO tune.py:1009 -- Wrote the latest version of all result files and experiment state to 'C:/Users/ushe/ray_results/ppo_cooperative_pong' in 0.0171s.\n",
      "2024-10-31 17:04:16,859\tINFO tune.py:1041 -- Total run time: 682.53 seconds (672.38 seconds for the tuning loop).\n",
      "2024-10-31 17:04:16,860\tWARNING tune.py:1056 -- Experiment has been interrupted, but the most recent state was saved.\n",
      "Resume experiment with: tune.run(..., resume=True)\n"
     ]
    }
   ],
   "source": [
    "results = tune.run(\n",
    "               'PPO',\n",
    "               config=config.to_dict(),\n",
    "               name='ppo_cooperative_pong',\n",
    "               stop={'agent_timesteps_total': 1e4, 'env_runners/episode_reward_mean': 10},\n",
    ")"
   ]
  }
 ],
 "metadata": {
  "kernelspec": {
   "display_name": ".venv",
   "language": "python",
   "name": "python3"
  },
  "language_info": {
   "codemirror_mode": {
    "name": "ipython",
    "version": 3
   },
   "file_extension": ".py",
   "mimetype": "text/x-python",
   "name": "python",
   "nbconvert_exporter": "python",
   "pygments_lexer": "ipython3",
   "version": "3.11.6"
  }
 },
 "nbformat": 4,
 "nbformat_minor": 2
}
