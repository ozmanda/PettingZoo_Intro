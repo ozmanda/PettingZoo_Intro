{
 "cells": [
  {
   "cell_type": "markdown",
   "metadata": {},
   "source": [
    "# CartPole with Ray and RLLib\n",
    "This notebook trains an agent to solve the ``cartpole-v1`` environment from ``gym``, doing so with multiple different algorithms via the ``ray`` API. For basic understanding of how RLLib is structured, [this](https://www.youtube.com/watch?v=nF02NWK1Rug&t=28s) video can be quite helpful. One representation from the video is shown below. The [code](https://github.com/DeUmbraTX/practical_rllib_tutorial/tree/main) from the video contains simple examples of all aspects of RLLib.\n",
    "\n",
    "<img src=\"./imgs/rllib_overview.png\" width=\"600\" />\n",
    "\n",
    "Although RLLib is capable of handling multi-agent problems and environments, in the ``CartPole`` example, we consider a simple single-agent problem. To perform any RL experiment with the Ray framework we need four things: \n",
    "1. RL Environment \n",
    "2. RL Algorithm\n",
    "3. Configuration of the environment, algorithm and the experiment\n",
    "4. Experiment Runner\n",
    "\n",
    "To begin we import all packages and initialise Ray to use 4 CPUs "
   ]
  },
  {
   "cell_type": "code",
   "execution_count": null,
   "metadata": {},
   "outputs": [
    {
     "name": "stderr",
     "output_type": "stream",
     "text": [
      "2024-10-30 16:28:04,677\tINFO worker.py:1816 -- Started a local Ray instance.\n"
     ]
    },
    {
     "data": {
      "application/vnd.jupyter.widget-view+json": {
       "model_id": "c29fd1655240419ab7bbe574c4054633",
       "version_major": 2,
       "version_minor": 0
      },
      "text/html": [
       "<div class=\"lm-Widget p-Widget lm-Panel p-Panel jp-Cell-outputWrapper\">\n",
       "    <div style=\"margin-left: 50px;display: flex;flex-direction: row;align-items: center\">\n",
       "        <div class=\"jp-RenderedHTMLCommon\" style=\"display: flex; flex-direction: row;\">\n",
       "  <svg viewBox=\"0 0 567 224\" fill=\"none\" xmlns=\"http://www.w3.org/2000/svg\" style=\"height: 3em;\">\n",
       "    <g clip-path=\"url(#clip0_4338_178347)\">\n",
       "        <path d=\"M341.29 165.561H355.29L330.13 129.051C345.63 123.991 354.21 112.051 354.21 94.2307C354.21 71.3707 338.72 58.1807 311.88 58.1807H271V165.561H283.27V131.661H311.8C314.25 131.661 316.71 131.501 319.01 131.351L341.25 165.561H341.29ZM283.29 119.851V70.0007H311.82C331.3 70.0007 342.34 78.2907 342.34 94.5507C342.34 111.271 331.34 119.861 311.82 119.861L283.29 119.851ZM451.4 138.411L463.4 165.561H476.74L428.74 58.1807H416L367.83 165.561H380.83L392.83 138.411H451.4ZM446.19 126.601H398L422 72.1407L446.24 126.601H446.19ZM526.11 128.741L566.91 58.1807H554.35L519.99 114.181L485.17 58.1807H472.44L514.01 129.181V165.541H526.13V128.741H526.11Z\" fill=\"var(--jp-ui-font-color0)\"/>\n",
       "        <path d=\"M82.35 104.44C84.0187 97.8827 87.8248 92.0678 93.1671 87.9146C98.5094 83.7614 105.083 81.5067 111.85 81.5067C118.617 81.5067 125.191 83.7614 130.533 87.9146C135.875 92.0678 139.681 97.8827 141.35 104.44H163.75C164.476 101.562 165.622 98.8057 167.15 96.2605L127.45 56.5605C121.071 60.3522 113.526 61.6823 106.235 60.3005C98.9443 58.9187 92.4094 54.9203 87.8602 49.0574C83.3109 43.1946 81.0609 35.8714 81.5332 28.4656C82.0056 21.0599 85.1679 14.0819 90.4252 8.8446C95.6824 3.60726 102.672 0.471508 110.08 0.0272655C117.487 -0.416977 124.802 1.86091 130.647 6.4324C136.493 11.0039 140.467 17.5539 141.821 24.8501C143.175 32.1463 141.816 39.6859 138 46.0505L177.69 85.7505C182.31 82.9877 187.58 81.4995 192.962 81.4375C198.345 81.3755 203.648 82.742 208.33 85.3976C213.012 88.0532 216.907 91.9029 219.616 96.5544C222.326 101.206 223.753 106.492 223.753 111.875C223.753 117.258 222.326 122.545 219.616 127.197C216.907 131.848 213.012 135.698 208.33 138.353C203.648 141.009 198.345 142.375 192.962 142.313C187.58 142.251 182.31 140.763 177.69 138L138 177.7C141.808 184.071 143.155 191.614 141.79 198.91C140.424 206.205 136.44 212.75 130.585 217.313C124.731 221.875 117.412 224.141 110.004 223.683C102.596 223.226 95.6103 220.077 90.3621 214.828C85.1139 209.58 81.9647 202.595 81.5072 195.187C81.0497 187.779 83.3154 180.459 87.878 174.605C92.4405 168.751 98.9853 164.766 106.281 163.401C113.576 162.035 121.119 163.383 127.49 167.19L167.19 127.49C165.664 124.941 164.518 122.182 163.79 119.3H141.39C139.721 125.858 135.915 131.673 130.573 135.826C125.231 139.98 118.657 142.234 111.89 142.234C105.123 142.234 98.5494 139.98 93.2071 135.826C87.8648 131.673 84.0587 125.858 82.39 119.3H60C58.1878 126.495 53.8086 132.78 47.6863 136.971C41.5641 141.163 34.1211 142.972 26.7579 142.059C19.3947 141.146 12.6191 137.574 7.70605 132.014C2.79302 126.454 0.0813599 119.29 0.0813599 111.87C0.0813599 104.451 2.79302 97.2871 7.70605 91.7272C12.6191 86.1673 19.3947 82.5947 26.7579 81.6817C34.1211 80.7686 41.5641 82.5781 47.6863 86.7696C53.8086 90.9611 58.1878 97.2456 60 104.44H82.35ZM100.86 204.32C103.407 206.868 106.759 208.453 110.345 208.806C113.93 209.159 117.527 208.258 120.522 206.256C123.517 204.254 125.725 201.276 126.771 197.828C127.816 194.38 127.633 190.677 126.253 187.349C124.874 184.021 122.383 181.274 119.205 179.577C116.027 177.88 112.359 177.337 108.826 178.042C105.293 178.746 102.113 180.654 99.8291 183.44C97.5451 186.226 96.2979 189.718 96.3 193.32C96.2985 195.364 96.7006 197.388 97.4831 199.275C98.2656 201.163 99.4132 202.877 100.86 204.32ZM204.32 122.88C206.868 120.333 208.453 116.981 208.806 113.396C209.159 109.811 208.258 106.214 206.256 103.219C204.254 100.223 201.275 98.0151 197.827 96.97C194.38 95.9249 190.676 96.1077 187.348 97.4873C184.02 98.8669 181.274 101.358 179.577 104.536C177.879 107.714 177.337 111.382 178.041 114.915C178.746 118.448 180.653 121.627 183.439 123.911C186.226 126.195 189.717 127.443 193.32 127.44C195.364 127.443 197.388 127.042 199.275 126.259C201.163 125.476 202.878 124.328 204.32 122.88ZM122.88 19.4205C120.333 16.8729 116.981 15.2876 113.395 14.9347C109.81 14.5817 106.213 15.483 103.218 17.4849C100.223 19.4868 98.0146 22.4654 96.9696 25.9131C95.9245 29.3608 96.1073 33.0642 97.4869 36.3922C98.8665 39.7202 101.358 42.4668 104.535 44.1639C107.713 45.861 111.381 46.4036 114.914 45.6992C118.447 44.9949 121.627 43.0871 123.911 40.301C126.195 37.515 127.442 34.0231 127.44 30.4205C127.44 28.3772 127.038 26.3539 126.255 24.4664C125.473 22.5788 124.326 20.8642 122.88 19.4205ZM19.42 100.86C16.8725 103.408 15.2872 106.76 14.9342 110.345C14.5813 113.93 15.4826 117.527 17.4844 120.522C19.4863 123.518 22.4649 125.726 25.9127 126.771C29.3604 127.816 33.0638 127.633 36.3918 126.254C39.7198 124.874 42.4664 122.383 44.1635 119.205C45.8606 116.027 46.4032 112.359 45.6988 108.826C44.9944 105.293 43.0866 102.114 40.3006 99.8296C37.5145 97.5455 34.0227 96.2983 30.42 96.3005C26.2938 96.3018 22.337 97.9421 19.42 100.86ZM100.86 100.86C98.3125 103.408 96.7272 106.76 96.3742 110.345C96.0213 113.93 96.9226 117.527 98.9244 120.522C100.926 123.518 103.905 125.726 107.353 126.771C110.8 127.816 114.504 127.633 117.832 126.254C121.16 124.874 123.906 122.383 125.604 119.205C127.301 116.027 127.843 112.359 127.139 108.826C126.434 105.293 124.527 102.114 121.741 99.8296C118.955 97.5455 115.463 96.2983 111.86 96.3005C109.817 96.299 107.793 96.701 105.905 97.4835C104.018 98.2661 102.303 99.4136 100.86 100.86Z\" fill=\"#00AEEF\"/>\n",
       "    </g>\n",
       "    <defs>\n",
       "        <clipPath id=\"clip0_4338_178347\">\n",
       "            <rect width=\"566.93\" height=\"223.75\" fill=\"white\"/>\n",
       "        </clipPath>\n",
       "    </defs>\n",
       "  </svg>\n",
       "</div>\n",
       "\n",
       "        <table class=\"jp-RenderedHTMLCommon\" style=\"border-collapse: collapse;color: var(--jp-ui-font-color1);font-size: var(--jp-ui-font-size1);\">\n",
       "    <tr>\n",
       "        <td style=\"text-align: left\"><b>Python version:</b></td>\n",
       "        <td style=\"text-align: left\"><b>3.11.6</b></td>\n",
       "    </tr>\n",
       "    <tr>\n",
       "        <td style=\"text-align: left\"><b>Ray version:</b></td>\n",
       "        <td style=\"text-align: left\"><b>2.38.0</b></td>\n",
       "    </tr>\n",
       "    \n",
       "</table>\n",
       "\n",
       "    </div>\n",
       "</div>\n"
      ],
      "text/plain": [
       "RayContext(dashboard_url='', python_version='3.11.6', ray_version='2.38.0', ray_commit='385ee466260ef3cd218d5e372aef5d39338b7b94')"
      ]
     },
     "execution_count": 1,
     "metadata": {},
     "output_type": "execute_result"
    }
   ],
   "source": [
    "import os\n",
    "import ray\n",
    "import gymnasium\n",
    "from ray import tune, train    # experiment runner\n",
    "from ray.rllib.algorithms.ppo import PPOConfig\n",
    "from ray.rllib.algorithms.dqn.dqn import DQNConfig\n",
    "\n",
    "ray.init(num_cpus=4)"
   ]
  },
  {
   "cell_type": "markdown",
   "metadata": {},
   "source": [
    "## Environment\n",
    "Using ``gymnasium`` is particularly easy with Ray, as it has native support for all gym environments and we can simply pass the name of the ``gymanisum`` environment to the configurator. With other environments such as ``AEC`` or ``ParallelEnv`` from PettingZoo, preprocessing and wrapping would be necessary here."
   ]
  },
  {
   "cell_type": "markdown",
   "metadata": {},
   "source": [
    "## Algorithm\n",
    "In this example we test two different built-in algorithms from Ray, PPO and DQN. To begin, we must configure the algorithms using their dedicated config classes, which inhert from ``AlgorihmConfig`` and are ``PPOConfig`` and ``DQNConfig``, respectively. There are two methods of training algorithms: \n",
    "\n",
    "1. Build the ``Algorithm`` from the config dictionary and use its methods to train\n",
    "2. Pass the ``AlgorithmConfig`` dictionary to a ``ray.tune.Tuner`` object and perform an experiment.\n",
    "\n",
    "For PPO these two examples are shown in the [documentation](https://docs.ray.io/en/latest/rllib/rllib-training.html?_gl=1*wviehk*_up*MQ..*_ga*MTA1MDM5NzY0Ny4xNzMwMTEwMTE0*_ga_0LCWHW1N3S*MTczMDExMDExMy4xLjEuMTczMDExMDE5MC4wLjAuMA..#using-the-python-api). Beginning with the first method, we build the PPO and DQN Algorithms from their respective ``AlgorithmConfig`` classes and train 10 iterations, printing the result after the final training iteration. More details on the ``Algorithm`` class and information on how to create a custom algorithm can be found [here](https://docs.ray.io/en/latest/rllib/package_ref/algorithm.html?_gl=1*1s6zgz8*_up*MQ..*_ga*MjExNDg5MjYzMC4xNzMwMjg1NDg1*_ga_0LCWHW1N3S*MTczMDMwMjgzMC4yLjAuMTczMDMwMjgzMC4wLjAuMA..#building-custom-algorithm-classes)."
   ]
  },
  {
   "cell_type": "code",
   "execution_count": 6,
   "metadata": {},
   "outputs": [
    {
     "name": "stderr",
     "output_type": "stream",
     "text": [
      "c:\\Users\\ushe\\VSCode\\PettingZoo_Intro\\.venv\\Lib\\site-packages\\ray\\rllib\\algorithms\\algorithm.py:568: RayDeprecationWarning: This API is deprecated and may be removed in future Ray releases. You could suppress this warning by setting env variable PYTHONWARNINGS=\"ignore::DeprecationWarning\"\n",
      "`UnifiedLogger` will be removed in Ray 2.7.\n",
      "  return UnifiedLogger(config, logdir, loggers=None)\n",
      "c:\\Users\\ushe\\VSCode\\PettingZoo_Intro\\.venv\\Lib\\site-packages\\ray\\tune\\logger\\unified.py:53: RayDeprecationWarning: This API is deprecated and may be removed in future Ray releases. You could suppress this warning by setting env variable PYTHONWARNINGS=\"ignore::DeprecationWarning\"\n",
      "The `JsonLogger interface is deprecated in favor of the `ray.tune.json.JsonLoggerCallback` interface and will be removed in Ray 2.7.\n",
      "  self._loggers.append(cls(self.config, self.logdir, self.trial))\n",
      "c:\\Users\\ushe\\VSCode\\PettingZoo_Intro\\.venv\\Lib\\site-packages\\ray\\tune\\logger\\unified.py:53: RayDeprecationWarning: This API is deprecated and may be removed in future Ray releases. You could suppress this warning by setting env variable PYTHONWARNINGS=\"ignore::DeprecationWarning\"\n",
      "The `CSVLogger interface is deprecated in favor of the `ray.tune.csv.CSVLoggerCallback` interface and will be removed in Ray 2.7.\n",
      "  self._loggers.append(cls(self.config, self.logdir, self.trial))\n",
      "c:\\Users\\ushe\\VSCode\\PettingZoo_Intro\\.venv\\Lib\\site-packages\\ray\\tune\\logger\\unified.py:53: RayDeprecationWarning: This API is deprecated and may be removed in future Ray releases. You could suppress this warning by setting env variable PYTHONWARNINGS=\"ignore::DeprecationWarning\"\n",
      "The `TBXLogger interface is deprecated in favor of the `ray.tune.tensorboardx.TBXLoggerCallback` interface and will be removed in Ray 2.7.\n",
      "  self._loggers.append(cls(self.config, self.logdir, self.trial))\n",
      "c:\\Users\\ushe\\VSCode\\PettingZoo_Intro\\.venv\\Lib\\site-packages\\gymnasium\\envs\\registration.py:694: UserWarning: \u001b[33mWARN: Overriding environment rllib-single-agent-env-v0 already in registry.\u001b[0m\n",
      "  logger.warn(f\"Overriding environment {new_spec.id} already in registry.\")\n",
      "c:\\Users\\ushe\\VSCode\\PettingZoo_Intro\\.venv\\Lib\\site-packages\\gymnasium\\vector\\__init__.py:53: UserWarning: \u001b[33mWARN: `gymnasium.vector.make(...)` is deprecated and will be replaced by `gymnasium.make_vec(...)` in v1.0\u001b[0m\n",
      "  gym.logger.warn(\n",
      "c:\\Users\\ushe\\VSCode\\PettingZoo_Intro\\.venv\\Lib\\site-packages\\gymnasium\\core.py:311: UserWarning: \u001b[33mWARN: env.num_envs to get variables from other wrappers is deprecated and will be removed in v1.0, to get this variable you can do `env.unwrapped.num_envs` for environment variables or `env.get_wrapper_attr('num_envs')` that will search the reminding wrappers.\u001b[0m\n",
      "  logger.warn(\n",
      "c:\\Users\\ushe\\VSCode\\PettingZoo_Intro\\.venv\\Lib\\site-packages\\gymnasium\\core.py:311: UserWarning: \u001b[33mWARN: env.single_observation_space to get variables from other wrappers is deprecated and will be removed in v1.0, to get this variable you can do `env.unwrapped.single_observation_space` for environment variables or `env.get_wrapper_attr('single_observation_space')` that will search the reminding wrappers.\u001b[0m\n",
      "  logger.warn(\n",
      "c:\\Users\\ushe\\VSCode\\PettingZoo_Intro\\.venv\\Lib\\site-packages\\gymnasium\\core.py:311: UserWarning: \u001b[33mWARN: env.single_action_space to get variables from other wrappers is deprecated and will be removed in v1.0, to get this variable you can do `env.unwrapped.single_action_space` for environment variables or `env.get_wrapper_attr('single_action_space')` that will search the reminding wrappers.\u001b[0m\n",
      "  logger.warn(\n",
      "2024-10-30 17:07:25,816\tWARNING util.py:61 -- Install gputil for GPU system monitoring.\n"
     ]
    },
    {
     "name": "stdout",
     "output_type": "stream",
     "text": [
      "{'date': '2024-10-30_17-11-17',\n",
      " 'done': False,\n",
      " 'env_runners': {'agent_episode_returns_mean': {'default_agent': 479.92},\n",
      "                 'episode_duration_sec_mean': 0.2996239929999865,\n",
      "                 'episode_len_max': 500,\n",
      "                 'episode_len_mean': 479.92,\n",
      "                 'episode_len_min': 120,\n",
      "                 'episode_return_max': 500.0,\n",
      "                 'episode_return_mean': 479.92,\n",
      "                 'episode_return_min': 120.0,\n",
      "                 'module_episode_returns_mean': {'default_policy': 479.92},\n",
      "                 'num_agent_steps_sampled': {'default_agent': 4000},\n",
      "                 'num_agent_steps_sampled_lifetime': {'default_agent': 760000},\n",
      "                 'num_env_steps_sampled': 4000,\n",
      "                 'num_env_steps_sampled_lifetime': 760000,\n",
      "                 'num_episodes': 8,\n",
      "                 'num_module_steps_sampled': {'default_policy': 4000},\n",
      "                 'num_module_steps_sampled_lifetime': {'default_policy': 760000},\n",
      "                 'sample': 2.9416438859290657,\n",
      "                 'time_between_sampling': 10.434405856205323},\n",
      " 'fault_tolerance': {'num_healthy_workers': 1,\n",
      "                     'num_in_flight_async_reqs': 0,\n",
      "                     'num_remote_worker_restarts': 0},\n",
      " 'hostname': 'clt-mob-t-7210',\n",
      " 'iterations_since_restore': 19,\n",
      " 'learners': {'__all_modules__': {'learner_connector_timer': 0.15131060894920437,\n",
      "                                  'num_env_steps_trained': 4009,\n",
      "                                  'num_module_steps_trained': 4009,\n",
      "                                  'num_non_trainable_parameters': 0.0,\n",
      "                                  'num_trainable_parameters': 134915.0},\n",
      "              'default_policy': {'curr_entropy_coeff': 0.0,\n",
      "                                 'curr_kl_coeff': 0.004687500186264515,\n",
      "                                 'default_optimizer_learning_rate': 5e-05,\n",
      "                                 'entropy': 0.5046274662017822,\n",
      "                                 'gradients_default_optimizer_global_norm': 0.7772948145866394,\n",
      "                                 'mean_kl_loss': 0.008032201789319515,\n",
      "                                 'module_train_batch_size_mean': 4200.413199101673,\n",
      "                                 'num_module_steps_trained': 4009,\n",
      "                                 'num_non_trainable_parameters': 0.0,\n",
      "                                 'num_trainable_parameters': 134915.0,\n",
      "                                 'policy_loss': 0.03419649228453636,\n",
      "                                 'total_loss': 9.799324989318848,\n",
      "                                 'vf_explained_var': -0.009057998657226562,\n",
      "                                 'vf_loss': 9.765091896057129,\n",
      "                                 'vf_loss_unclipped': 3553.163330078125}},\n",
      " 'node_ip': '127.0.0.1',\n",
      " 'num_agent_steps_sampled_lifetime': {'default_agent': 76000},\n",
      " 'num_env_steps_sampled_lifetime': 76000,\n",
      " 'num_env_steps_trained_lifetime': 76626,\n",
      " 'num_episodes_lifetime': 607,\n",
      " 'perf': {'cpu_util_percent': np.float64(3.347058823529412),\n",
      "          'ram_util_percent': np.float64(63.788235294117655)},\n",
      " 'pid': 35924,\n",
      " 'time_since_restore': 231.83842039108276,\n",
      " 'time_this_iter_s': 11.796913146972656,\n",
      " 'time_total_s': 231.83842039108276,\n",
      " 'timers': {'env_runner_sampling_timer': 2.915800390096608,\n",
      "            'learner_update_timer': 10.238081467170566,\n",
      "            'restore_workers_time_sec': 0.0,\n",
      "            'synch_env_connectors': 0.00569760506654274,\n",
      "            'synch_weights': 0.0039934298457658,\n",
      "            'training_iteration_time_sec': 11.562941431999207,\n",
      "            'training_step_time_sec': 11.562642097473145},\n",
      " 'timestamp': 1730304677,\n",
      " 'training_iteration': 19,\n",
      " 'trial_id': 'default'}\n"
     ]
    }
   ],
   "source": [
    "from pprint import pprint\n",
    "\n",
    "ppo_config = (\n",
    "    PPOConfig()\n",
    "    .api_stack(\n",
    "        enable_rl_module_and_learner=True,\n",
    "        enable_env_runner_and_connector_v2=True,\n",
    "    )\n",
    "    .environment('CartPole-v1')\n",
    "    .env_runners(num_env_runners=1)\n",
    ")\n",
    "\n",
    "algo = ppo_config.build()\n",
    "\n",
    "for i in range(19):\n",
    "    ppo_result = algo.train()\n",
    "\n",
    "ppo_result.pop('config')\n",
    "pprint(ppo_result)"
   ]
  },
  {
   "cell_type": "markdown",
   "metadata": {},
   "source": [
    "We then do the same with with ``DQNConfig``. Note that we pass the same parameters, despite the two algorithms being different. This is because we are leaving all algorithm-specific configurations to default values. [Algorithm-specific configuration options](https://docs.ray.io/en/latest/rllib/rllib-algorithms.html?_gl=1*mfabvl*_up*MQ..*_ga*MjExNDg5MjYzMC4xNzMwMjg1NDg1*_ga_0LCWHW1N3S*MTczMDI4NTQ4NS4xLjAuMTczMDI4NTQ4NS4wLjAuMA..) are available in the Ray documentation."
   ]
  },
  {
   "cell_type": "code",
   "execution_count": 7,
   "metadata": {},
   "outputs": [
    {
     "name": "stderr",
     "output_type": "stream",
     "text": [
      "2024-10-30 17:11:17,940\tWARNING dqn.py:429 -- You are running DQN on the new API stack! This is the new default behavior for this algorithm. If you don't want to use the new API stack, set `config.api_stack(enable_rl_module_and_learner=False, enable_env_runner_and_connector_v2=False)`. For a detailed migration guide, see here: https://docs.ray.io/en/master/rllib/new-api-stack-migration-guide.html\n",
      "c:\\Users\\ushe\\VSCode\\PettingZoo_Intro\\.venv\\Lib\\site-packages\\ray\\rllib\\algorithms\\algorithm.py:568: RayDeprecationWarning: This API is deprecated and may be removed in future Ray releases. You could suppress this warning by setting env variable PYTHONWARNINGS=\"ignore::DeprecationWarning\"\n",
      "`UnifiedLogger` will be removed in Ray 2.7.\n",
      "  return UnifiedLogger(config, logdir, loggers=None)\n",
      "c:\\Users\\ushe\\VSCode\\PettingZoo_Intro\\.venv\\Lib\\site-packages\\ray\\tune\\logger\\unified.py:53: RayDeprecationWarning: This API is deprecated and may be removed in future Ray releases. You could suppress this warning by setting env variable PYTHONWARNINGS=\"ignore::DeprecationWarning\"\n",
      "The `JsonLogger interface is deprecated in favor of the `ray.tune.json.JsonLoggerCallback` interface and will be removed in Ray 2.7.\n",
      "  self._loggers.append(cls(self.config, self.logdir, self.trial))\n",
      "c:\\Users\\ushe\\VSCode\\PettingZoo_Intro\\.venv\\Lib\\site-packages\\ray\\tune\\logger\\unified.py:53: RayDeprecationWarning: This API is deprecated and may be removed in future Ray releases. You could suppress this warning by setting env variable PYTHONWARNINGS=\"ignore::DeprecationWarning\"\n",
      "The `CSVLogger interface is deprecated in favor of the `ray.tune.csv.CSVLoggerCallback` interface and will be removed in Ray 2.7.\n",
      "  self._loggers.append(cls(self.config, self.logdir, self.trial))\n",
      "c:\\Users\\ushe\\VSCode\\PettingZoo_Intro\\.venv\\Lib\\site-packages\\ray\\tune\\logger\\unified.py:53: RayDeprecationWarning: This API is deprecated and may be removed in future Ray releases. You could suppress this warning by setting env variable PYTHONWARNINGS=\"ignore::DeprecationWarning\"\n",
      "The `TBXLogger interface is deprecated in favor of the `ray.tune.tensorboardx.TBXLoggerCallback` interface and will be removed in Ray 2.7.\n",
      "  self._loggers.append(cls(self.config, self.logdir, self.trial))\n",
      "c:\\Users\\ushe\\VSCode\\PettingZoo_Intro\\.venv\\Lib\\site-packages\\gymnasium\\envs\\registration.py:694: UserWarning: \u001b[33mWARN: Overriding environment rllib-single-agent-env-v0 already in registry.\u001b[0m\n",
      "  logger.warn(f\"Overriding environment {new_spec.id} already in registry.\")\n",
      "c:\\Users\\ushe\\VSCode\\PettingZoo_Intro\\.venv\\Lib\\site-packages\\gymnasium\\vector\\__init__.py:53: UserWarning: \u001b[33mWARN: `gymnasium.vector.make(...)` is deprecated and will be replaced by `gymnasium.make_vec(...)` in v1.0\u001b[0m\n",
      "  gym.logger.warn(\n",
      "c:\\Users\\ushe\\VSCode\\PettingZoo_Intro\\.venv\\Lib\\site-packages\\gymnasium\\core.py:311: UserWarning: \u001b[33mWARN: env.num_envs to get variables from other wrappers is deprecated and will be removed in v1.0, to get this variable you can do `env.unwrapped.num_envs` for environment variables or `env.get_wrapper_attr('num_envs')` that will search the reminding wrappers.\u001b[0m\n",
      "  logger.warn(\n",
      "c:\\Users\\ushe\\VSCode\\PettingZoo_Intro\\.venv\\Lib\\site-packages\\gymnasium\\core.py:311: UserWarning: \u001b[33mWARN: env.single_observation_space to get variables from other wrappers is deprecated and will be removed in v1.0, to get this variable you can do `env.unwrapped.single_observation_space` for environment variables or `env.get_wrapper_attr('single_observation_space')` that will search the reminding wrappers.\u001b[0m\n",
      "  logger.warn(\n",
      "c:\\Users\\ushe\\VSCode\\PettingZoo_Intro\\.venv\\Lib\\site-packages\\gymnasium\\core.py:311: UserWarning: \u001b[33mWARN: env.single_action_space to get variables from other wrappers is deprecated and will be removed in v1.0, to get this variable you can do `env.unwrapped.single_action_space` for environment variables or `env.get_wrapper_attr('single_action_space')` that will search the reminding wrappers.\u001b[0m\n",
      "  logger.warn(\n",
      "2024-10-30 17:11:23,942\tWARNING dqn.py:429 -- You are running DQN on the new API stack! This is the new default behavior for this algorithm. If you don't want to use the new API stack, set `config.api_stack(enable_rl_module_and_learner=False, enable_env_runner_and_connector_v2=False)`. For a detailed migration guide, see here: https://docs.ray.io/en/master/rllib/new-api-stack-migration-guide.html\n",
      "2024-10-30 17:11:23,962\tWARNING util.py:61 -- Install gputil for GPU system monitoring.\n"
     ]
    },
    {
     "name": "stdout",
     "output_type": "stream",
     "text": [
      "{'date': '2024-10-30_17-20-50',\n",
      " 'done': False,\n",
      " 'env_runners': {'agent_episode_returns_mean': {'default_agent': 129.04},\n",
      "                 'episode_duration_sec_mean': 0.0,\n",
      "                 'episode_len_max': 500,\n",
      "                 'episode_len_mean': 129.04,\n",
      "                 'episode_len_min': 10,\n",
      "                 'episode_return_max': 500.0,\n",
      "                 'episode_return_mean': 129.04,\n",
      "                 'episode_return_min': 10.0,\n",
      "                 'module_episode_returns_mean': {'default_policy': 129.04},\n",
      "                 'num_agent_steps_sampled': {'default_agent': 1},\n",
      "                 'num_agent_steps_sampled_lifetime': {'default_agent': 180509500},\n",
      "                 'num_env_steps_sampled': 1,\n",
      "                 'num_env_steps_sampled_lifetime': 180509500,\n",
      "                 'num_episodes': 0,\n",
      "                 'num_module_steps_sampled': {'default_policy': 1},\n",
      "                 'num_module_steps_sampled_lifetime': {'default_policy': 180509500},\n",
      "                 'sample': 0.0018758152958601774,\n",
      "                 'time_between_sampling': 0.032550917931114885},\n",
      " 'fault_tolerance': {'num_healthy_workers': 1,\n",
      "                     'num_in_flight_async_reqs': 0,\n",
      "                     'num_remote_worker_restarts': 0},\n",
      " 'hostname': 'clt-mob-t-7210',\n",
      " 'iterations_since_restore': 19,\n",
      " 'learners': {'__all_modules__': {'learner_connector_timer': 0.0019948872528810185,\n",
      "                                  'num_env_steps_trained': 32,\n",
      "                                  'num_module_steps_trained': 32,\n",
      "                                  'num_module_steps_trained_lifetime': 576032,\n",
      "                                  'num_non_trainable_parameters': 0.0,\n",
      "                                  'num_trainable_parameters': 67842.99999999996},\n",
      "              'default_policy': {'default_optimizer_learning_rate': 0.0005,\n",
      "                                 'gradients_default_optimizer_global_norm': 0.0022032815031707287,\n",
      "                                 'last_target_update_ts': 19000.0,\n",
      "                                 'module_train_batch_size_mean': 32.0,\n",
      "                                 'num_module_steps_trained': 32,\n",
      "                                 'num_module_steps_trained_lifetime': 576032,\n",
      "                                 'num_non_trainable_parameters': 0.0,\n",
      "                                 'num_target_updates': 333037,\n",
      "                                 'num_trainable_parameters': 67842.99999999996,\n",
      "                                 'qf_loss': 0.0012734697666019201,\n",
      "                                 'qf_max': 32.33840560913086,\n",
      "                                 'qf_mean': 27.157302856445312,\n",
      "                                 'qf_min': 2.734483242034912,\n",
      "                                 'td_error_mean': 1.9598513841629028,\n",
      "                                 'total_loss': 0.0012734697666019201}},\n",
      " 'node_ip': '127.0.0.1',\n",
      " 'num_agent_steps_sampled_lifetime': {'default_agent': 19000},\n",
      " 'num_env_steps_sampled_lifetime': 19000,\n",
      " 'num_env_steps_trained_lifetime': 576032,\n",
      " 'num_episodes_lifetime': 280,\n",
      " 'num_module_steps_sampled_lifetime': {'default_policy': 19000},\n",
      " 'perf': {'cpu_util_percent': np.float64(4.097777777777779),\n",
      "          'ram_util_percent': np.float64(62.37111111111112)},\n",
      " 'pid': 35924,\n",
      " 'time_since_restore': 566.7587018013,\n",
      " 'time_this_iter_s': 31.988399505615234,\n",
      " 'time_total_s': 566.7587018013,\n",
      " 'timers': {'env_runner_sampling_timer': 0.006637030579948649,\n",
      "            'learner_update_timer': 0.011331483304283083,\n",
      "            'replay_buffer_add_data_timer': 0.0005666260376999915,\n",
      "            'replay_buffer_sampling_timer': 0.005707483890920394,\n",
      "            'replay_buffer_update_prios_timer': 0.0004923049518239682,\n",
      "            'restore_workers_time_sec': 0.0,\n",
      "            'synch_env_connectors': 0.004808400725153091,\n",
      "            'synch_weights': 0.008246882500777665,\n",
      "            'training_iteration_time_sec': 31.58822367191315,\n",
      "            'training_step_time_sec': 0.029175972938537596},\n",
      " 'timestamp': 1730305250,\n",
      " 'training_iteration': 19,\n",
      " 'trial_id': 'default'}\n"
     ]
    }
   ],
   "source": [
    "from ray.rllib.algorithms.dqn.dqn import DQNConfig\n",
    "\n",
    "dqn_config = (\n",
    "    DQNConfig()\n",
    "    .api_stack(\n",
    "        enable_rl_module_and_learner=True,\n",
    "        enable_env_runner_and_connector_v2=True,\n",
    "    )\n",
    "    .environment('CartPole-v1')\n",
    "    .env_runners(num_env_runners=1)\n",
    ")\n",
    "\n",
    "dqn_algo = dqn_config.build()\n",
    "\n",
    "for i in range(19):\n",
    "    dqn_result = dqn_algo.train()\n",
    "\n",
    "dqn_result.pop('config')\n",
    "pprint(dqn_result)"
   ]
  },
  {
   "cell_type": "markdown",
   "metadata": {},
   "source": [
    "We can compare the output of the two models. The most relevant information can be found in the ``env_runners`` key, which contains information on the environments and agents run. In particular we are interested in the ``agent_episode_returns_mean``, which gives us the average return over all episodes for each agent. In our case there is only one agent, which is denoted with ``default_agent``. "
   ]
  },
  {
   "cell_type": "code",
   "execution_count": 16,
   "metadata": {},
   "outputs": [
    {
     "name": "stdout",
     "output_type": "stream",
     "text": [
      "------ PPO RESULT ------\n",
      "Average Episode Reward: 479.92\n",
      "Average Episode Duration: 0.2996 seconds\n",
      "Reward: (max: 500.0, mean: 479.92, min: 120.0)\n",
      "Episode Length: (max: 500, mean: 479.92, min: 120)\n",
      "\n",
      "------ DQN RESULT ------\n",
      "Average Episode Reward: 129.04\n",
      "Average Episode Duration: 0.0 seconds\n",
      "Reward: (max: 500.0, mean: 129.04, min: 10.0)\n",
      "Episode Length: (max: 500, mean: 129.04, min: 10)\n"
     ]
    }
   ],
   "source": [
    "ppo_agent_results = ppo_result['env_runners']\n",
    "print('------ PPO RESULT ------')\n",
    "print(f'Average Episode Reward: {ppo_agent_results[\"agent_episode_returns_mean\"][\"default_agent\"]}')\n",
    "print(f'Average Episode Duration: {round(ppo_agent_results[\"episode_duration_sec_mean\"], 4)} seconds')\n",
    "print(f'Reward: (max: {ppo_agent_results[\"episode_return_max\"]}, mean: {ppo_agent_results[\"episode_return_mean\"]}, min: {ppo_agent_results[\"episode_return_min\"]})')\n",
    "print(f'Episode Length: (max: {ppo_agent_results[\"episode_len_max\"]}, mean: {ppo_agent_results[\"episode_len_mean\"]}, min: {ppo_agent_results[\"episode_len_min\"]})')\n",
    "\n",
    "dqn_agent_results = dqn_result['env_runners']\n",
    "print()\n",
    "print('------ DQN RESULT ------')\n",
    "print(f'Average Episode Reward: {dqn_agent_results[\"agent_episode_returns_mean\"][\"default_agent\"]}')\n",
    "print(f'Average Episode Duration: {round(dqn_agent_results[\"episode_duration_sec_mean\"], 4)} seconds')\n",
    "print(f'Reward: (max: {dqn_agent_results[\"episode_return_max\"]}, mean: {dqn_agent_results[\"episode_return_mean\"]}, min: {dqn_agent_results[\"episode_return_min\"]})')\n",
    "print(f'Episode Length: (max: {dqn_agent_results[\"episode_len_max\"]}, mean: {dqn_agent_results[\"episode_len_mean\"]}, min: {dqn_agent_results[\"episode_len_min\"]})')"
   ]
  },
  {
   "cell_type": "markdown",
   "metadata": {},
   "source": [
    "The second method is to use ``ray.tune`` to perform an experiments with an ``AlgorithmConfig`` object. ``ray.tune`` was originally intended for hyperparameter tuning, hence its name. In the following examples, we will only run a single experiment, e.g. we won't pass any search spaces for hyperparameters (this will be analysed in a different notebook). In the ``Tuner`` object we indicate that we want to stop training once an average reward of 200 has been reached. "
   ]
  },
  {
   "cell_type": "code",
   "execution_count": null,
   "metadata": {},
   "outputs": [
    {
     "data": {
      "text/html": [
       "<div class=\"tuneStatus\">\n",
       "  <div style=\"display: flex;flex-direction: row\">\n",
       "    <div style=\"display: flex;flex-direction: column;\">\n",
       "      <h3>Tune Status</h3>\n",
       "      <table>\n",
       "<tbody>\n",
       "<tr><td>Current time:</td><td>2024-10-31 09:55:02</td></tr>\n",
       "<tr><td>Running for: </td><td>00:01:50.40        </td></tr>\n",
       "<tr><td>Memory:      </td><td>19.8/31.3 GiB      </td></tr>\n",
       "</tbody>\n",
       "</table>\n",
       "    </div>\n",
       "    <div class=\"vDivider\"></div>\n",
       "    <div class=\"systemInfo\">\n",
       "      <h3>System Info</h3>\n",
       "      Using FIFO scheduling algorithm.<br>Logical resource usage: 0/4 CPUs, 0/0 GPUs\n",
       "    </div>\n",
       "    \n",
       "  </div>\n",
       "  <div class=\"hDivider\"></div>\n",
       "  <div class=\"trialStatus\">\n",
       "    <h3>Trial Status</h3>\n",
       "    <table>\n",
       "<thead>\n",
       "<tr><th>Trial name                 </th><th>status  </th><th>loc  </th></tr>\n",
       "</thead>\n",
       "<tbody>\n",
       "<tr><td>PPO_CartPole-v1_8f6ed_00000</td><td>PENDING </td><td>     </td></tr>\n",
       "</tbody>\n",
       "</table>\n",
       "  </div>\n",
       "</div>\n",
       "<style>\n",
       ".tuneStatus {\n",
       "  color: var(--jp-ui-font-color1);\n",
       "}\n",
       ".tuneStatus .systemInfo {\n",
       "  display: flex;\n",
       "  flex-direction: column;\n",
       "}\n",
       ".tuneStatus td {\n",
       "  white-space: nowrap;\n",
       "}\n",
       ".tuneStatus .trialStatus {\n",
       "  display: flex;\n",
       "  flex-direction: column;\n",
       "}\n",
       ".tuneStatus h3 {\n",
       "  font-weight: bold;\n",
       "}\n",
       ".tuneStatus .hDivider {\n",
       "  border-bottom-width: var(--jp-border-width);\n",
       "  border-bottom-color: var(--jp-border-color0);\n",
       "  border-bottom-style: solid;\n",
       "}\n",
       ".tuneStatus .vDivider {\n",
       "  border-left-width: var(--jp-border-width);\n",
       "  border-left-color: var(--jp-border-color0);\n",
       "  border-left-style: solid;\n",
       "  margin: 0.5em 1em 0.5em 1em;\n",
       "}\n",
       "</style>\n"
      ],
      "text/plain": [
       "<IPython.core.display.HTML object>"
      ]
     },
     "metadata": {},
     "output_type": "display_data"
    },
    {
     "name": "stderr",
     "output_type": "stream",
     "text": [
      "2024-10-31 09:55:02,972\tWARNING tune.py:219 -- Stop signal received (e.g. via SIGINT/Ctrl+C), ending Ray Tune run. This will try to checkpoint the experiment state one last time. Press CTRL+C (or send SIGINT/SIGKILL/SIGTERM) to skip. \n",
      "2024-10-31 09:55:02,979\tINFO tune.py:1009 -- Wrote the latest version of all result files and experiment state to 'C:/Users/ushe/ray_results/PPO_2024-10-31_09-53-12' in 0.0060s.\n",
      "2024-10-31 09:55:02,995\tINFO tune.py:1041 -- Total run time: 110.43 seconds (110.40 seconds for the tuning loop).\n",
      "2024-10-31 09:55:02,996\tWARNING tune.py:1056 -- Experiment has been interrupted, but the most recent state was saved.\n",
      "Resume experiment with: Tuner.restore(path=\"C:/Users/ushe/ray_results/PPO_2024-10-31_09-53-12\", trainable=...)\n",
      "2024-10-31 09:55:03,002\tWARNING experiment_analysis.py:180 -- Failed to fetch metrics for 1 trial(s):\n",
      "- PPO_CartPole-v1_8f6ed_00000: FileNotFoundError('Could not fetch metrics for PPO_CartPole-v1_8f6ed_00000: both result.json and progress.csv were not found at C:/Users/ushe/ray_results/PPO_2024-10-31_09-53-12/PPO_CartPole-v1_8f6ed_00000_0_2024-10-31_09-53-12')\n"
     ]
    },
    {
     "data": {
      "text/plain": [
       "ResultGrid<[\n",
       "  Result(\n",
       "    metrics={},\n",
       "    path='C:/Users/ushe/ray_results/PPO_2024-10-31_09-53-12/PPO_CartPole-v1_8f6ed_00000_0_2024-10-31_09-53-12',\n",
       "    filesystem='local',\n",
       "    checkpoint=None\n",
       "  )\n",
       "]>"
      ]
     },
     "execution_count": 19,
     "metadata": {},
     "output_type": "execute_result"
    }
   ],
   "source": [
    "ppo_config = (\n",
    "    PPOConfig()\n",
    "    .api_stack(\n",
    "        enable_rl_module_and_learner=True, \n",
    "        enable_env_runner_and_connector_v2=True,\n",
    "    )\n",
    "    .environment('CartPole-v1')\n",
    ")\n",
    "\n",
    "tuner = tune.Tuner(\n",
    "    \"PPO\",\n",
    "    param_space=ppo_config,\n",
    "    run_config=train.RunConfig(\n",
    "        stop={'env_runners/episode_return_mean': 100},\n",
    "    )\n",
    ")\n",
    "\n",
    "tuner.fit()"
   ]
  },
  {
   "cell_type": "code",
   "execution_count": null,
   "metadata": {},
   "outputs": [],
   "source": [
    "dqn_config = (\n",
    "    DQNConfig()\n",
    "    .api_stack(\n",
    "        enable_env_runner_and_connector_v2=True,\n",
    "        enable_rl_module_and_learner=True,\n",
    "    )\n",
    "    .environment('CartPole-v1')\n",
    ")\n",
    "\n",
    "tuner = tune.Tuner(\n",
    "    \"DQN\",\n",
    "    param_space=dqn_config,\n",
    "    run_config=train.RunConfig(\n",
    "        stop={'env_runners/episode_return_mean': 100},\n",
    "    )\n",
    ")"
   ]
  }
 ],
 "metadata": {
  "kernelspec": {
   "display_name": ".venv",
   "language": "python",
   "name": "python3"
  },
  "language_info": {
   "codemirror_mode": {
    "name": "ipython",
    "version": 3
   },
   "file_extension": ".py",
   "mimetype": "text/x-python",
   "name": "python",
   "nbconvert_exporter": "python",
   "pygments_lexer": "ipython3",
   "version": "3.11.6"
  }
 },
 "nbformat": 4,
 "nbformat_minor": 2
}
